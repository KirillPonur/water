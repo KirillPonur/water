{
 "cells": [
  {
   "cell_type": "markdown",
   "metadata": {},
   "source": [
    "<script type=\"text/x-mathjax-config\">\n",
    "MathJax.Hub.Config({\n",
    "  TeX: { \n",
    "    equationNumbers: { autoNumber: \"AMS\" } \n",
    "    }\n",
    "});\n",
    "</script>\n"
   ]
  },
  {
   "cell_type": "code",
   "execution_count": 1,
   "metadata": {
    "slideshow": {
     "slide_type": "-"
    }
   },
   "outputs": [
    {
     "data": {
      "application/javascript": [
       "MathJax.Hub.Config({\n",
       "  TeX: { \n",
       "    equationNumbers: { autoNumber: \"AMS\" } \n",
       "    }\n",
       "});\n"
      ],
      "text/plain": [
       "<IPython.core.display.Javascript object>"
      ]
     },
     "metadata": {},
     "output_type": "display_data"
    }
   ],
   "source": [
    "%%js\n",
    "MathJax.Hub.Config({\n",
    "  TeX: { \n",
    "    equationNumbers: { autoNumber: \"AMS\" } \n",
    "    }\n",
    "});\n"
   ]
  },
  {
   "cell_type": "code",
   "execution_count": 2,
   "metadata": {
    "scrolled": true
   },
   "outputs": [
    {
     "name": "stdout",
     "output_type": "stream",
     "text": [
      "Populating the interactive namespace from numpy and matplotlib\n"
     ]
    }
   ],
   "source": [
    "%pylab inline\n",
    "rcParams['figure.figsize'] = [7, 6]\n",
    "rcParams['axes.labelsize'] = 20\n",
    "from math import pi\n",
    "from IPython.display import display, Math,Latex\n",
    "import pandas as pd"
   ]
  },
  {
   "cell_type": "markdown",
   "metadata": {},
   "source": [
    "# Моделирование\n",
    "## Распределение амплитуд"
   ]
  },
  {
   "cell_type": "markdown",
   "metadata": {},
   "source": [
    "$\\renewcommand{\\phi}{\\varphi}$\n",
    "Для моделирования случайной поверхности $\\Sigma(\\vec{r},t)$ используется ее представление в виде суперпозиции плоских волн (гармоник) с различными частотами $\\omega_n$ и случайными фазами $\\Psi_{nm}$, бегущих под разными азимутальными углами $\\phi_m$:\n",
    "$$\\begin{equation*}\n",
    "    \\Sigma(\\vec{r},t)=\\sum\\limits_{n=1}^N\\sum_{m=1}^M A_n\n",
    "    cos(\\omega_nt+\\vec{k_n}\\vec{r}+\\Psi_{nm})\\cdot\\Phi_{nm}\n",
    "    (\\omega_n,\\phi_m)\n",
    "    \\label{eq:1}\n",
    "\\end{equation*}$$\n",
    "Далее будут приведены основные соотношения, необходимые для этого уравнения"
   ]
  },
  {
   "cell_type": "markdown",
   "metadata": {},
   "source": [
    "$$\\begin{equation}\n",
    "\\begin{cases}\n",
    "\tS_{\\Sigma}(\\omega) = S_{\\xi}, & 0< \\omega\\leq 1.2\\omega_m\\\\\n",
    "\tS_{\\Sigma}(\\omega) = \\frac{\\alpha_2}{\\omega^4}, \n",
    "\t& 1.2\\omega<\\omega \\leq a_m\\omega_m\\\\\n",
    "\tS_{\\Sigma}(\\omega) = \\frac{\\alpha_3}{\\omega^5}, \n",
    "\t& a_m\\omega_m < \\omega \\leq \\omega_{gk}\\approx 64 \\text{ рад/с}\\\\\n",
    "\tS_{\\Sigma}(\\omega) = \\frac{\\alpha_4}{\\omega^2.7}, \n",
    "\t& \\omega_{gk} < \\omega \\leq \\omega_{h}\\approx 298 \\text{ рад/с}\\\\\n",
    "\tS_{\\Sigma}(\\omega) = \\frac{\\alpha_5}{\\omega^5}, \n",
    "\t& \\omega_h<\\omega\n",
    "\\end{cases}\n",
    "\\end{equation}$$\n",
    "Здесь $$\\begin{gather}\n",
    "S_{\\xi}(\\omega)=\\alpha g^2\\omega^{-5}\\exp\\{-1.25(\\frac{\\omega_m}{\\omega})^4\\cdot\\gamma^r\\} \\\\\n",
    "r=\\exp\\left\\{-(\\omega-\\omega_m)^2/(2\\sigma_*^2\\omega_m^2) \\right\\}\n",
    "\\end{gather}$$\n",
    "\n",
    "\n",
    "--спектр JONSWAP.\n",
    "\n",
    "\\begin{equation}\n",
    "k_m=0.697\\cdot \\frac{g}{U_{10}^2}\n",
    "\\end{equation}, g-ускорение свободного падения? По размерностям подходит.\n",
    "Насколько я понимаю, то $\\omega_m$ однозначно связана с $k_m$ соотношением \n",
    "\\begin{equation}\n",
    "k_m=\\frac{\\omega_m^2}{g}\n",
    "\\end{equation}\n",
    "\n",
    "Таким образом, частоту спектрального пика $\\omega_m$ мы определяем как:\n",
    "\\begin{equation}\n",
    "\\omega_m^2=0.697\\cdot \\frac{g^2}{U_{10}^2} .\n",
    "\\end{equation}"
   ]
  },
  {
   "cell_type": "code",
   "execution_count": 3,
   "metadata": {},
   "outputs": [],
   "source": [
    "global g,omega_gk,omega_h #объявление постоянных величин, которые встречаются во множестве формул\n",
    "x=20170\n",
    "g=9.81\n",
    "omega_gk=64\n",
    "omega_h=298   \n",
    "\n",
    "def omega_max(U10):\n",
    "    omega=0.697**(1/2)*g/U10\n",
    "    return omega\n",
    "\n",
    "def k_max(U10):\n",
    "    k_max=0.697*g/U10**2\n",
    "    return k_max\n",
    "\n",
    "def omega_k(k):\n",
    "#     omega_k=(g*k)**(1/2) #Простое дисперсионное\n",
    "    omega_k=(g*k+0.0748*k**3/1000)**(1/2) #Сложное дисперсионное\n",
    "    return omega_k"
   ]
  },
  {
   "cell_type": "code",
   "execution_count": null,
   "metadata": {},
   "outputs": [],
   "source": []
  },
  {
   "cell_type": "markdown",
   "metadata": {},
   "source": [
    "Значение коэффициента $a_m$ зависит от скорости ветра:"
   ]
  },
  {
   "cell_type": "code",
   "execution_count": 4,
   "metadata": {},
   "outputs": [],
   "source": [
    "def a(U10):\n",
    "    a=0.371+0.29*U10+0.29/U10\n",
    "    return a"
   ]
  },
  {
   "cell_type": "markdown",
   "metadata": {},
   "source": [
    "Коэффициенты $\\alpha_i$ вычисляются по следующей формуле:"
   ]
  },
  {
   "cell_type": "code",
   "execution_count": 5,
   "metadata": {},
   "outputs": [],
   "source": [
    "def alpha0(U10,x):\n",
    "    omega_m=omega_max(U10)\n",
    "    alpha=np.zeros(6)\n",
    "    alpha[2]=S0(1.2*omega_m,U10,x)*(1.2*omega_m)**4\n",
    "    alpha[3]=alpha[2]*a(U10)*omega_m\n",
    "    alpha[4]=alpha[3]/omega_gk**(2.3)\n",
    "    alpha[5]=alpha[4]*omega_h**(2.3)\n",
    "    return alpha"
   ]
  },
  {
   "cell_type": "markdown",
   "metadata": {},
   "source": [
    "Зададим спектр JONSWAP"
   ]
  },
  {
   "cell_type": "markdown",
   "metadata": {},
   "source": [
    "Стоит также сказать о коэффициентах $\\alpha$ и $\\gamma$, входящие в спектр JONSWAP. Они зависят от безразмерного коэффициента разгона $\\bar{x} \\in [1400,20170]$"
   ]
  },
  {
   "cell_type": "markdown",
   "metadata": {},
   "source": [
    "А $\\sigma_*$, входящее в $r$, задаётся как:\n",
    "\n",
    "$$\\sigma_*=\n",
    "\\begin{cases}\n",
    "0.07, & \\omega\\leq\\omega_m \\\\\n",
    "0.09, & \\omega>\\omega_m\n",
    "\\end{cases}\n",
    "$$\n"
   ]
  },
  {
   "cell_type": "code",
   "execution_count": 6,
   "metadata": {},
   "outputs": [],
   "source": [
    "def Sigma(omega):\n",
    "    omega_m=omega_max(U10)\n",
    "    if omega <= omega_m:\n",
    "        return 0.07\n",
    "    else:\n",
    "        return 0.09"
   ]
  },
  {
   "cell_type": "code",
   "execution_count": 7,
   "metadata": {},
   "outputs": [],
   "source": [
    "def Alpha(x):\n",
    "    alpha=array([],dtype='float64')\n",
    "    alpha=[( \n",
    "           +0.0311937\n",
    "           -0.00232774*log(x)\n",
    "           -8367.8678786/x**2\n",
    "#            +4.5114599e+300*exp(-x)*1e+300*1e+17\n",
    "           +4.5114599e+17*exp(-x)\n",
    "          )]\n",
    "    return alpha[0]\n",
    "def Gamma(x):\n",
    "    gamma=(\n",
    "           +5.253660929\n",
    "           +0.000107622*x\n",
    "           -0.03778776*sqrt(x)\n",
    "           -162.9834653/sqrt(x)\n",
    "           +253251.456472*x**(-3/2)\n",
    "          )\n",
    "    return gamma"
   ]
  },
  {
   "cell_type": "code",
   "execution_count": 8,
   "metadata": {},
   "outputs": [],
   "source": [
    "def S0(k,U10,x):\n",
    "    omega=omega_k(k)\n",
    "    omega_m=omega_max(U10)\n",
    "    \n",
    "    def r(omega,omega_m):\n",
    "        r=(np.exp(-(omega-omega_m)**2/(2*sigma**2*omega_m**2)))\n",
    "        return r\n",
    "    \n",
    "    alpha=Alpha(x)\n",
    "#     alpha=0.081\n",
    "    gamma=Gamma(x)\n",
    "#     gamma=3.3\n",
    "    sigma=Sigma(omega)\n",
    "    a_m=a(U10)\n",
    "    S0=( \n",
    "        alpha *  g**2 * omega**(-5)\n",
    "        *exp(-1.25*(omega_m/omega)**4)*\n",
    "        gamma**r(omega,omega_m)\n",
    "    )\n",
    "    return S0"
   ]
  },
  {
   "cell_type": "code",
   "execution_count": 9,
   "metadata": {
    "scrolled": false
   },
   "outputs": [
    {
     "data": {
      "image/png": "[encoded data removed]",
      "text/plain": [
       "<Figure size 432x288 with 1 Axes>"
      ]
     },
     "metadata": {
      "needs_background": "light"
     },
     "output_type": "display_data"
    }
   ],
   "source": [
    "U10=10\n",
    "y=[]\n",
    "k=np.linspace(0.001,1,10000)\n",
    "for i in k:\n",
    "    y.append(S0(i,U10,x))\n",
    "    \n",
    "plot(sqrt(k*g),y)\n",
    "title('$S_{\\omega}$, частотный спектр')\n",
    "show()\n",
    "# plot(k,y)\n",
    "# title('$S_k$ спектр')\n",
    "# show()\n",
    "# lam=2*pi/k\n",
    "# y=[y[i] for i in argsort(lam)]\n",
    "# lam=sort(lam)\n",
    "# plot(lam[0:argmax(y)+350],y[0:argmax(y)+350])\n",
    "# title('$S_{\\lambda}$ спектр')\n",
    "# show()\n"
   ]
  },
  {
   "cell_type": "code",
   "execution_count": 10,
   "metadata": {},
   "outputs": [],
   "source": [
    "def S(k,U10,x):\n",
    "    omega=omega_k(k)\n",
    "    omega_m=omega_max(U10)\n",
    " \n",
    "    alpha=alpha0(U10,x)\n",
    "    \n",
    "    if 0<=omega<=1.2*omega_m:\n",
    "        S=S0(omega,U10,x)\n",
    "    elif 1.2*omega_m<omega<=a(U10)*omega_m:\n",
    "        S=alpha[2]/omega**4\n",
    "    elif a(U10)*omega_m<omega<=omega_gk:\n",
    "        S=alpha[3]/omega**5\n",
    "    elif omega_gk<omega<=omega_h:\n",
    "        S=alpha[4]/omega**(2.7)\n",
    "    elif omega_h<omega:\n",
    "        S=alpha[5]/omega**5\n",
    "        \n",
    "    return S"
   ]
  },
  {
   "cell_type": "markdown",
   "metadata": {},
   "source": [
    "<script type=\"text/x-mathjax-config\">\n",
    "MathJax.Hub.Config({\n",
    "  TeX: { equationNumbers: { autoNumber: \"AMS\" } }\n",
    "});\n",
    "</script>"
   ]
  },
  {
   "cell_type": "markdown",
   "metadata": {},
   "source": [
    "## Контрольная точка. Проверка спектра амплитуд"
   ]
  },
  {
   "cell_type": "markdown",
   "metadata": {},
   "source": [
    "### При постоянном X и меняющейся скорости ветра\n",
    "\n",
    "Ниже построены графики зависимости $S_{\\omega}(\\omega)$"
   ]
  },
  {
   "cell_type": "code",
   "execution_count": 11,
   "metadata": {},
   "outputs": [
    {
     "data": {
      "image/png": "[encoded data removed]",
      "text/plain": [
       "<Figure size 432x288 with 1 Axes>"
      ]
     },
     "metadata": {
      "needs_background": "light"
     },
     "output_type": "display_data"
    }
   ],
   "source": [
    "x=30000\n",
    "U10=5\n",
    "k=logspace(-3.5,5,1000)\n",
    "C=[]\n",
    "for i in k:\n",
    "    C.append(S(i,U10,x))\n",
    "loglog(sqrt(k*g),C,label='$U=5$')\n",
    "\n",
    "U10=10\n",
    "k=logspace(-4.5,5,1000)\n",
    "C=[]\n",
    "for i in k:\n",
    "    C.append(S(i,U10,x))\n",
    "loglog(sqrt(k*g),C,label='$U=10$')\n",
    "\n",
    "U10=15\n",
    "k=logspace(-5.5,5,1000)\n",
    "C=[]\n",
    "for i in k:\n",
    "    C.append(S(i,U10,x))\n",
    "loglog(sqrt(k*g),C,label='$U=15$')\n",
    "legend()\n",
    "xlabel('$\\omega$')\n",
    "ylabel('$S_{\\omega}$')\n",
    "show()"
   ]
  },
  {
   "cell_type": "markdown",
   "metadata": {},
   "source": [
    "### При постоянной скорости и меняющемся X"
   ]
  },
  {
   "cell_type": "code",
   "execution_count": 12,
   "metadata": {
    "scrolled": false
   },
   "outputs": [
    {
     "data": {
      "text/plain": [
       "<matplotlib.legend.Legend at 0x174def98780>"
      ]
     },
     "execution_count": 12,
     "metadata": {},
     "output_type": "execute_result"
    },
    {
     "data": {
      "image/png": "[encoded data removed]",
      "text/plain": [
       "<Figure size 432x288 with 1 Axes>"
      ]
     },
     "metadata": {
      "needs_background": "light"
     },
     "output_type": "display_data"
    }
   ],
   "source": [
    "xx=arange(1430,20000,3000)\n",
    "U10=3\n",
    "for n in xx:\n",
    "    x=n\n",
    "    k=logspace(-5,5,1000)\n",
    "    C=[]\n",
    "    for i in k:\n",
    "        C.append(S(i,U10,x))\n",
    "    loglog(sqrt(k*g),C,label='$\\\\~{x}=$'+'{0}'.format(x))\n",
    "\n",
    "ylim([10**-30,10])\n",
    "xlabel('$\\omega$')\n",
    "ylabel('$S_{\\omega}$')\n",
    "legend()"
   ]
  },
  {
   "cell_type": "code",
   "execution_count": 13,
   "metadata": {},
   "outputs": [
    {
     "data": {
      "text/html": [
       "<table border=\"1\" cellpadding=\"3\" cellspacing=\"0\"  style=\"border:black; border-collapse:collapse;\"><tr><td  style=\"border-left: 1px solid;border-right: 1px solid;border-top: 1px solid;border-bottom: 1px solid;\">x</td><td  style=\"border-left: 1px solid;border-right: 1px solid;border-top: 1px solid;border-bottom: 1px solid;\">1430</td><td  style=\"border-left: 1px solid;border-right: 1px solid;border-top: 1px solid;border-bottom: 1px solid;\">4430</td><td  style=\"border-left: 1px solid;border-right: 1px solid;border-top: 1px solid;border-bottom: 1px solid;\">7430</td><td  style=\"border-left: 1px solid;border-right: 1px solid;border-top: 1px solid;border-bottom: 1px solid;\">10430</td><td  style=\"border-left: 1px solid;border-right: 1px solid;border-top: 1px solid;border-bottom: 1px solid;\">13430</td><td  style=\"border-left: 1px solid;border-right: 1px solid;border-top: 1px solid;border-bottom: 1px solid;\">16430</td><td  style=\"border-left: 1px solid;border-right: 1px solid;border-top: 1px solid;border-bottom: 1px solid;\">19430</td></tr><tr><td  style=\"border-left: 1px solid;border-right: 1px solid;border-top: 1px solid;border-bottom: 1px solid;\">$\\alpha$</td><td  style=\"border-left: 1px solid;border-right: 1px solid;border-top: 1px solid;border-bottom: 1px solid;\">0.0102</td><td  style=\"border-left: 1px solid;border-right: 1px solid;border-top: 1px solid;border-bottom: 1px solid;\">0.0112</td><td  style=\"border-left: 1px solid;border-right: 1px solid;border-top: 1px solid;border-bottom: 1px solid;\">0.0103</td><td  style=\"border-left: 1px solid;border-right: 1px solid;border-top: 1px solid;border-bottom: 1px solid;\">0.0096</td><td  style=\"border-left: 1px solid;border-right: 1px solid;border-top: 1px solid;border-bottom: 1px solid;\">0.0090</td><td  style=\"border-left: 1px solid;border-right: 1px solid;border-top: 1px solid;border-bottom: 1px solid;\">0.0086</td><td  style=\"border-left: 1px solid;border-right: 1px solid;border-top: 1px solid;border-bottom: 1px solid;\">0.0082</td></tr><tr><td  style=\"border-left: 1px solid;border-right: 1px solid;border-top: 1px solid;border-bottom: 1px solid;\">$\\gamma$</td><td  style=\"border-left: 1px solid;border-right: 1px solid;border-top: 1px solid;border-bottom: 1px solid;\">4.3519</td><td  style=\"border-left: 1px solid;border-right: 1px solid;border-top: 1px solid;border-bottom: 1px solid;\">1.6255</td><td  style=\"border-left: 1px solid;border-right: 1px solid;border-top: 1px solid;border-bottom: 1px solid;\">1.3007</td><td  style=\"border-left: 1px solid;border-right: 1px solid;border-top: 1px solid;border-bottom: 1px solid;\">1.1589</td><td  style=\"border-left: 1px solid;border-right: 1px solid;border-top: 1px solid;border-bottom: 1px solid;\">1.0762</td><td  style=\"border-left: 1px solid;border-right: 1px solid;border-top: 1px solid;border-bottom: 1px solid;\">1.0270</td><td  style=\"border-left: 1px solid;border-right: 1px solid;border-top: 1px solid;border-bottom: 1px solid;\">1.0017</td></tr></table>"
      ],
      "text/plain": [
       "<ipy_table.ipy_table.IpyTable at 0x174dcf7c8d0>"
      ]
     },
     "execution_count": 13,
     "metadata": {},
     "output_type": "execute_result"
    }
   ],
   "source": [
    "row1=['$\\\\alpha$']\n",
    "row2=['$\\\\gamma$']\n",
    "for i in xx:\n",
    "    row1.append(Alpha(i))\n",
    "    row2.append(Gamma(i))\n",
    "    \n",
    "from ipy_table import make_table\n",
    "xx=xx.tolist()\n",
    "xx.insert(0,'x')\n",
    "table=[xx,row1,row2]\n",
    "make_table(table)"
   ]
  },
  {
   "cell_type": "markdown",
   "metadata": {},
   "source": [
    "Тоже самое, но в увеличенном виде"
   ]
  },
  {
   "cell_type": "code",
   "execution_count": 14,
   "metadata": {},
   "outputs": [
    {
     "data": {
      "text/plain": [
       "<matplotlib.legend.Legend at 0x174df38b550>"
      ]
     },
     "execution_count": 14,
     "metadata": {},
     "output_type": "execute_result"
    },
    {
     "data": {
      "image/png": "[encoded data removed]",
      "text/plain": [
       "<Figure size 432x288 with 1 Axes>"
      ]
     },
     "metadata": {
      "needs_background": "light"
     },
     "output_type": "display_data"
    }
   ],
   "source": [
    "xx=arange(1430,20000,3000)\n",
    "U10=10\n",
    "for n in xx:\n",
    "    x=n\n",
    "    k=logspace(-5,5,1000)\n",
    "    C=[]\n",
    "    for i in k:\n",
    "        C.append(S(i,U10,x))\n",
    "    loglog(sqrt(k*g),C,label='$\\\\~{x}=$'+'{0}'.format(x))\n",
    "xlabel('$\\omega$')\n",
    "ylabel('$S_{\\omega}$')\n",
    "ylim([10**-1,10])\n",
    "xlim([10**-2,1])\n",
    "legend()"
   ]
  },
  {
   "cell_type": "markdown",
   "metadata": {},
   "source": [
    "Для сравнения, можно построить график из готовых данных"
   ]
  },
  {
   "cell_type": "code",
   "execution_count": 25,
   "metadata": {
    "scrolled": false
   },
   "outputs": [
    {
     "data": {
      "text/plain": [
       "[<matplotlib.lines.Line2D at 0x174e1947b38>]"
      ]
     },
     "execution_count": 25,
     "metadata": {},
     "output_type": "execute_result"
    },
    {
     "data": {
      "image/png": "[encoded data removed]",
      "text/plain": [
       "<Figure size 432x288 with 1 Axes>"
      ]
     },
     "metadata": {
      "needs_background": "light"
     },
     "output_type": "display_data"
    }
   ],
   "source": [
    "name='u5.dat'\n",
    "data=pd.read_csv(name,sep='\\s+')\n",
    "KT=array(data['KT'])\n",
    "OUR=array(data['OUR'])\n",
    "loglog(KT,OUR)\n",
    "\n",
    "name='u10.dat'\n",
    "data=pd.read_csv(name,sep='\\s+')\n",
    "KT=array(data['KT'])\n",
    "OUR=array(data['OUR'])\n",
    "loglog(KT,OUR)\n",
    "\n",
    "name='u15.dat'\n",
    "data=pd.read_csv(name,sep='\\s+')\n",
    "KT=array(data['KT'])\n",
    "OUR=array(data['OUR'])\n",
    "loglog(KT,OUR)"
   ]
  },
  {
   "cell_type": "code",
   "execution_count": 20,
   "metadata": {},
   "outputs": [],
   "source": [
    "# loglog(data['WT'],data['OUR'])"
   ]
  },
  {
   "cell_type": "markdown",
   "metadata": {},
   "source": [
    "## Угловое распределение\n",
    "Угловое распределение $\\Phi_{\\omega}$ описывается следующей формулой:\n",
    "$$\\Phi_{\\omega}=A\\cdot\\frac{2}{\\exp(2B\\phi)+\\exp(-2B\\phi)}=\\frac{A}{\\cosh(2B\\phi)},\\, -\\pi\\leq\\phi\\leq\\pi$$\n",
    "Где $B=10^b$, а b описывается следующей формулой:\n",
    "$$b=-0.28+0.65\\exp\\left\\{-0.75\\log(\\frac{k}{k_m})\\right\\}+0.01\\exp\\left\\{0.2+0.7\\lg(\\frac{k}{k_m})\\right\\}$$"
   ]
  },
  {
   "cell_type": "code",
   "execution_count": null,
   "metadata": {
    "scrolled": false
   },
   "outputs": [],
   "source": [
    "\n",
    "def Phi(phi, omega,U10):\n",
    "    def B(omega,U10):\n",
    "        def b(omega, U10):\n",
    "            k_m=k_max(U10)\n",
    "            k=omega**2/g\n",
    "            b=-0.28+0.65*exp(-0.75*log(k/k_m))+0.01*exp(0.2+0.7*log10(k/k_m))            \n",
    "            return b\n",
    "        B=10**b(omega,U10)\n",
    "        return B\n",
    "    def A(B):\n",
    "        A=B/arctan(sinh(2*pi*B))\n",
    "        return A\n",
    "    \n",
    "    B=B(omega,U10)\n",
    "    \n",
    "    A=A(B)\n",
    "    Phi=A/cosh(2*B*phi)\n",
    "    return Phi\n",
    "\n",
    "x=linspace(-pi,pi,1000)\n",
    "y=Phi(x,60,10)\n",
    "plot(x,y)\n",
    "\n",
    "integral=trapz(y,x,dx=0.1)\n",
    "display(Math\n",
    "    (\n",
    "     r'Интеграл\\,функции\\,распределения:\\\\'\n",
    "     +'\\displaystyle\\int\\limits_{-\\pi}^{\\pi}'\n",
    "     +'\\Phi_{\\omega}(\\omega,\\phi)d\\phi'\n",
    "     +'={0} \\simeq  {1}'.format(integral,round(integral,3)) \n",
    "    )\n",
    "       )"
   ]
  },
  {
   "cell_type": "code",
   "execution_count": null,
   "metadata": {},
   "outputs": [],
   "source": [
    "def A(omega,n,U10,x):\n",
    "    A=sqrt(2*(n*omega-(n-1)*omega)*S0(omega,U10,x))\n",
    "    return A\n",
    "\n",
    "def Phi0(phi,omega,U10):\n",
    "    Phi0=sqrt(2*pi/100* Phi(phi,omega,U10) )\n",
    "    return Phi0"
   ]
  },
  {
   "cell_type": "markdown",
   "metadata": {},
   "source": [
    "$\\Phi_{nm}$ имеет вид:"
   ]
  },
  {
   "cell_type": "code",
   "execution_count": null,
   "metadata": {},
   "outputs": [],
   "source": [
    "x=linspace(-pi,pi,1000)\n",
    "y=Phi0(x,60,10)\n",
    "plot(x,y)"
   ]
  },
  {
   "cell_type": "markdown",
   "metadata": {},
   "source": [
    "$A_n$ имеет вид:"
   ]
  },
  {
   "cell_type": "code",
   "execution_count": null,
   "metadata": {},
   "outputs": [],
   "source": [
    "k=logspace(-4.5,3,1000)\n",
    "omega=omega_k(k)\n",
    "y=[]\n",
    "x_=20170\n",
    "for x in omega:\n",
    "    y.append(A(x,6,10,x_))\n",
    "loglog(k,y)"
   ]
  },
  {
   "cell_type": "markdown",
   "metadata": {},
   "source": [
    "Остается вопрос как на основе скорости ветра и безразмерного разгона выбрать волновое число"
   ]
  },
  {
   "cell_type": "code",
   "execution_count": null,
   "metadata": {},
   "outputs": [],
   "source": [
    "# # %matplotlib qt\n",
    "# def model(k,U10,t,x,psi,x_):\n",
    "#     N=int(200*U10)\n",
    "#     model=0\n",
    "#     phi=linspace(0,2*pi,100)\n",
    "#     for j in range(1,N):\n",
    "#         omega=j*omega_k(k)\n",
    "# #     for m in range(1,100):\n",
    "#         model+=(\n",
    "#                 A(omega,j,U10,x_)*cos(omega*t+x*k*j+psi[j])\n",
    "# #                 *Phi0(phi[m],omega,U10)\n",
    "#                )\n",
    "#     return model\n",
    "\n",
    "# def psi(U10):\n",
    "#     N=int(200*U10)\n",
    "#     psi=zeros(N)\n",
    "#     for j in range(N):\n",
    "#         psi[j]=random.uniform(0,2*pi)\n",
    "#     return psi\n",
    "\n",
    "# U10=10\n",
    "# # print(k_max(U10))\n",
    "# phase=psi(U10)\n",
    "# # print(phase)\n",
    "\n",
    "# # x=linspace(0.001,400,1000)\n",
    "# x=arange(0.01,4,0.01)\n",
    "# x_=20170\n",
    "# Model=zeros(len(x))\n",
    "# t=10\n",
    "# for i in range(1,len(x)):\n",
    "#     Model[i]=(model(2,U10,0,x[i],phase,x_))\n",
    "# plot(x[0:-1],Model[0:-1])\n",
    "# show()\n",
    "\n",
    "# dispersion=std(Model)\n",
    "# mn=mean(Model)\n",
    "# med=median(Model)\n",
    "# print('Дисперсия=',dispersion)\n",
    "# print('Среднее=',mn)\n",
    "# print('Медианное значение=',med)"
   ]
  },
  {
   "cell_type": "code",
   "execution_count": null,
   "metadata": {},
   "outputs": [],
   "source": []
  }
 ],
 "metadata": {
  "kernelspec": {
   "display_name": "Python 3",
   "language": "python",
   "name": "python3"
  },
  "language_info": {
   "codemirror_mode": {
    "name": "ipython",
    "version": 3
   },
   "file_extension": ".py",
   "mimetype": "text/x-python",
   "name": "python",
   "nbconvert_exporter": "python",
   "pygments_lexer": "ipython3",
   "version": "3.7.1"
  }
 },
 "nbformat": 4,
 "nbformat_minor": 2
}
