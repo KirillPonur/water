{
 "cells": [
  {
   "cell_type": "code",
   "execution_count": 1,
   "metadata": {
    "slideshow": {
     "slide_type": "-"
    }
   },
   "outputs": [
    {
     "data": {
      "application/javascript": [
       "MathJax.Hub.Config({\n",
       "  TeX: { \n",
       "    equationNumbers: { autoNumber: \"AMS\" } \n",
       "    }\n",
       "});\n"
      ],
      "text/plain": [
       "<IPython.core.display.Javascript object>"
      ]
     },
     "metadata": {},
     "output_type": "display_data"
    }
   ],
   "source": [
    "%%js\n",
    "MathJax.Hub.Config({\n",
    "  TeX: { \n",
    "    equationNumbers: { autoNumber: \"AMS\" } \n",
    "    }\n",
    "});"
   ]
  },
  {
   "cell_type": "code",
   "execution_count": null,
   "metadata": {},
   "outputs": [],
   "source": []
  },
  {
   "cell_type": "markdown",
   "metadata": {},
   "source": [
    "# Моделирование"
   ]
  },
  {
   "cell_type": "code",
   "execution_count": 2,
   "metadata": {},
   "outputs": [],
   "source": [
    "from pylab import *\n",
    "from scipy import interpolate,integrate\n",
    "from ipywidgets import IntProgress\n",
    "from IPython.display import display,clear_output"
   ]
  },
  {
   "cell_type": "markdown",
   "metadata": {},
   "source": [
    "$\\renewcommand{\\phi}{\\varphi}$\n",
    "Для моделирования случайной поверхности $\\Sigma(\\vec{r},t)$ используется ее представление в виде суперпозиции плоских волн (гармоник) с различными частотами $\\omega_n$ и случайными фазами $\\Psi_{nm}$, бегущих под разными азимутальными углами $\\phi_m$:\n",
    "$$\\begin{equation*}\n",
    "    \\Sigma(\\vec{r},t)=\\sum\\limits_{n=1}^N\\sum_{m=1}^M A_n\n",
    "    cos(\\omega_nt+\\vec{k_n}\\vec{r}+\\Psi_{nm})\\cdot\\Phi_{nm}\n",
    "    (\\omega_n,\\phi_m)\n",
    "    \\label{eq:1}\n",
    "\\end{equation*}$$\n",
    "Далее будут приведены основные соотношения, необходимые для этого уравнения"
   ]
  },
  {
   "cell_type": "code",
   "execution_count": 3,
   "metadata": {},
   "outputs": [],
   "source": [
    "def find_decision(omega):\n",
    "    P = 9.8*1000.0/0.074;\n",
    "    Q = -1000.0*omega**2/0.074;\n",
    "    x1= -Q/2.0 + sqrt( (Q/2)**2 + (P/3)**3 )\n",
    "    x2= -Q/2.0 - sqrt( (Q/2)**2 + (P/3)**3 )\n",
    "    k=x1**(1/3)-(-x2)**(1/3)\n",
    "    return k\n",
    "\n",
    "def det(k): \n",
    "#        Функция возвращает Якобиан при переходе от частоты к \n",
    "#    волновым числам по полному дисперсионному\n",
    "\n",
    "    det=(9.8+3*k**2*0.074/1000)/(2*sqrt(9.8*k+k**3*0.074/1000) )\n",
    "    return det"
   ]
  },
  {
   "cell_type": "code",
   "execution_count": 4,
   "metadata": {},
   "outputs": [],
   "source": [
    "global g\n",
    "g=9.81\n",
    "KT=array([0.02,2000])\n",
    "U10=10\n",
    "def k_max(omega_max):\n",
    "    # k_max -- координата пика спектра\n",
    "    k_max=omega_max**2/g\n",
    "    return k_max\n",
    "\n",
    "def omega_k(k): \n",
    "    #    Пересчет волнового числа в частоту по полному дисперсионному\n",
    "    # уравнению   \n",
    "    omega_k=(g*k+0.074*k**3/1000)**(1/2) \n",
    "    return omega_k  \n",
    "\n",
    "def full_spectrum(k,x=20170, long_calculate=True):\n",
    "    #    Спектр JONSWAP. \n",
    "    #    По совместительству, граница моделируюмого спектра #0\n",
    "    # 0< omega < 1.2*omega_max \n",
    "    def JONSWAP(k):\n",
    "        if k<=k_m:\n",
    "            sigma=0.07\n",
    "        else:\n",
    "            sigma=0.09\n",
    "        Sw=(\n",
    "            Alpha(x)/2*k**(-3)*exp(-1.25*(k_m/k)**2 )*\n",
    "            Gamma(x)**(exp(- ( sqrt(k/k_m)-1)**2 / (2*sigma**2) ))\n",
    "           )\n",
    "        return Sw\n",
    "    # Безразмерный коэффициент Gamma\n",
    "    def Gamma(x):\n",
    "        if x>=20170:\n",
    "            return 1\n",
    "        gamma=(\n",
    "               +5.253660929\n",
    "               +0.000107622*x\n",
    "               -0.03778776*sqrt(x)\n",
    "               -162.9834653/sqrt(x)\n",
    "               +253251.456472*x**(-3/2)\n",
    "              )\n",
    "        return gamma\n",
    "    # Безразмерный коэффициент Alpha\n",
    "    def Alpha(x):\n",
    "        if x>=20170:\n",
    "            return 0.0081\n",
    "        alpha=array([],dtype='float64')\n",
    "        alpha=[( \n",
    "               +0.0311937\n",
    "               -0.00232774*log(x)\n",
    "               -8367.8678786/x**2\n",
    "               +4.5114599e+300*exp(-x)*1e+300*1e+17\n",
    "    #            +4.5114599e+17*exp(-x)\n",
    "              )]\n",
    "        return alpha[0]\n",
    "    #Вычисление безразмерной частоты Omega по безразмерному разгону x\n",
    "    def Omega(x): \n",
    "        if x>=20170:\n",
    "            return 0.835\n",
    "        omega_tilde=(0.61826357843576103 \n",
    "                     + 3.52883010586243843e-06*x\n",
    "                     - 0.00197508032233982112*sqrt(x)\n",
    "                     + 62.5540113059129759/sqrt(x)\n",
    "                     - 290.214120684236224/x\n",
    "        )\n",
    "        return omega_tilde\n",
    "\n",
    "    def spectrum1(k):\n",
    "        # Граница моделируюмого спектра #1\n",
    "        # 1.2*omega_max < omega < a_m omega_m\n",
    "        omega0=omega_k(limit_k[0])\n",
    "        beta0= JONSWAP(limit_k[0])*omega0**4/det(limit_k[0])\n",
    "        omega0=omega_k(k)\n",
    "\n",
    "        return beta0/omega0**4*det(k)\n",
    "\n",
    "    def spectrum2(k):\n",
    "        # Граница моделируюмого спектра #2\n",
    "        # a_m(U_10) omega_m < omega < omega_gk simeq 60 рад/с\n",
    "        omega0=omega_k(limit_k[1])\n",
    "        beta0= spectrum1(limit_k[1])*omega0**5/det(limit_k[1])\n",
    "\n",
    "        omega0=omega_k(k)\n",
    "\n",
    "        return beta0/omega0**5*det(k)\n",
    "\n",
    "    def spectrum3(k):\n",
    "        # Граница моделируюмого спектра #3\n",
    "        #  omega_gk < omega < omega_h simeq 290 рад/с\n",
    "        omega0=omega_k(limit_k[2])\n",
    "        beta0= spectrum2(limit_k[2])*omega0**2.7/det(limit_k[2])\n",
    "\n",
    "        omega0=omega_k(k)\n",
    "\n",
    "        return beta0/omega0**2.7*det(k)\n",
    "\n",
    "    def spectrum4(k):\n",
    "        # Граница моделируюмого спектра #4\n",
    "        #  omega_h < omega \n",
    "        omega0=omega_k(limit_k[3])\n",
    "        beta0= spectrum3(limit_k[3])*omega0**5/det(limit_k[3])\n",
    "\n",
    "        omega0=omega_k(k)\n",
    "\n",
    "        return beta0*det(k)/omega0**5\n",
    "        \n",
    "    gamma,alpha,omega_m=Gamma(x),Alpha(x),Omega(x)\n",
    "    \n",
    "    try:\n",
    "        full_spectrum=zeros(len(k))\n",
    "    except:\n",
    "        full_spectrum=[0]\n",
    "        k=[k]\n",
    "    if long_calculate==False:\n",
    "        k=logspace(log10(k[0]),log10(k[-1]),1000)\n",
    "        \n",
    "    omega=omega_m*g/U10\n",
    "    global k_m\n",
    "    k_m=k_max(omega)\n",
    "    \n",
    "    # См. функции spectrum_{1-4}(k)< \n",
    "    # limit_{1-4} -- это соответствующие границы\n",
    "    limit_1= 1.2\n",
    "    limit_2=(\n",
    "             +0.371347584096022408 \n",
    "             + 0.290241610467870486*U10\n",
    "             + 0.290178032985796564/U10\n",
    "            )\n",
    "    limit_3= 270.0\n",
    "    limit_4= 1020.0\n",
    "\n",
    "    limit_k=np.zeros(4)\n",
    "    limit_k[0]=find_decision(limit_1*omega)\n",
    "    limit_k[1]=find_decision(limit_2*omega)\n",
    "    limit_k[2]=limit_3\n",
    "    limit_k[3]=limit_4\n",
    "    \n",
    "    # Цикл ниже сшивает спектр на границах.\n",
    "    for i in range(len(k)):\n",
    "        if k[i] <= limit_k[0]:\n",
    "            full_spectrum[i] =  JONSWAP(k[i])\n",
    "        elif k[i] <= limit_k[1]:\n",
    "            full_spectrum[i] = spectrum1(k[i])\n",
    "        elif k[i] <= limit_k[2]:\n",
    "            full_spectrum[i] = spectrum2(k[i])\n",
    "        elif k[i] <= limit_k[3]:\n",
    "            full_spectrum[i] = spectrum3(k[i])\n",
    "        else:\n",
    "            full_spectrum[i] = spectrum4(k[i])  \n",
    "    return full_spectrum\n",
    "# Не забыть бы для приличия снести эти строчки к основную программу.\n",
    "# Интерполируем наш спектр. \n",
    "# Позволяет не думать над различными размерами массивов при счете\n",
    "k=arange(KT[0]*10**(-10),KT[-1]+100,0.01)\n",
    "full_spectrum=interpolate.interp1d(k,full_spectrum(k))\n"
   ]
  },
  {
   "cell_type": "code",
   "execution_count": 5,
   "metadata": {},
   "outputs": [],
   "source": [
    "def B(k):\n",
    "    def b(k):\n",
    "        b=(\n",
    "            -0.28+0.65*exp(-0.75*log(k/k_m))\n",
    "            +0.01*exp(-0.2+0.7*log10(k/k_m))  \n",
    "          )          \n",
    "        return b\n",
    "    B=10**b(k)\n",
    "    return B\n",
    "\n",
    "def Normalization(B):\n",
    "    #Нормировочный коэффициент для функции углового распределения\n",
    "    Normalization=B/arctan(sinh(2*pi*B))\n",
    "    return Normalization\n",
    "\n",
    "def Phi(k,phi):\n",
    "    # Функция углового распределения\n",
    "    # Костыль в виде try-except мне был нужен, \n",
    "    # чтобы можно было считать числа, а не массивы. Зачем? Уже не помню.\n",
    "    try:\n",
    "        Phi=zeros((len(k),len(phi)))\n",
    "        for i in range(len(k)):\n",
    "            B0=B(k[i])\n",
    "            A0=Normalization(B0)\n",
    "            Phi[i]=A0/cosh(2*B0*phi)\n",
    "    except:\n",
    "        B0=B(k)\n",
    "        A0=Normalization(B0)\n",
    "        Phi=A0/cosh(2*B0*phi)\n",
    "    return Phi"
   ]
  },
  {
   "cell_type": "code",
   "execution_count": 6,
   "metadata": {},
   "outputs": [],
   "source": [
    "k_edge=111.8-17.937*U10+3.095*U10**2+1.2656*U10**2*log(U10)+0.3141*U10*(2.5)"
   ]
  },
  {
   "cell_type": "code",
   "execution_count": 7,
   "metadata": {},
   "outputs": [],
   "source": [
    "def angle(k,phi):\n",
    "    angle=sqrt( 2*pi/100 * Phi(k,phi) )\n",
    "    return angle\n",
    "\n",
    "def amplitude(k):\n",
    "    # k-- выбранный диапазон волновых чисел\n",
    "    # N-- количество моделируемых гармоник\n",
    "    N=len(k)\n",
    "    S=full_spectrum(k)\n",
    "    dk=zeros(N)\n",
    "#     dk[0]=k[0]\n",
    "    dS=zeros(N)\n",
    "    if len(k)==1:\n",
    "        dk[0]=k[0]\n",
    "        dS[0]=S[0]\n",
    "    for i in range(1,N):\n",
    "        dk[i]=(k[i]-k[i-1])\n",
    "        dS[i]=S[i]\n",
    "    amplitude=sqrt(2*dk * dS)\n",
    "    return amplitude"
   ]
  },
  {
   "cell_type": "code",
   "execution_count": 13,
   "metadata": {
    "scrolled": false
   },
   "outputs": [],
   "source": [
    "def interspace(k,N):\n",
    "    # Функция разбивает заданный k-интервал на N участков, в каждои из которых\n",
    "    # интеграл по спектру принимает одно и тоже значение. \n",
    "    # Для метода <<отбеливания спектра>>.\n",
    "    y=lambda k: full_spectrum(k)\n",
    "    sigma=trapz(y(k),k)\n",
    "    b0=sigma/(N)\n",
    "    k_new=k[0]\n",
    "    a=k[-1]\n",
    "    k=zeros(N+1)\n",
    "    k[0]=k_new\n",
    "    err=zeros(N)\n",
    "    epsabs=1.49e-12\n",
    "    epsrel=1.49e-12\n",
    "    f=IntProgress(min=0,max=N-1)\n",
    "    display(f,'Разбиваю на интервалы')\n",
    "    for i in range(N-1):\n",
    "        integral=0\n",
    "        n=1\n",
    "        m=2\n",
    "        while integral<b0:\n",
    "            k_new*=1+10**(-m)\n",
    "            if k_new>a:\n",
    "                k_new=a\n",
    "                break\n",
    "            integral,error=integrate.quad(y,k[i],k_new,\n",
    "            limit=50,epsabs=epsabs, epsrel=epsrel)\n",
    "            if integral>b0 and abs(integral-b0)>epsabs:\n",
    "                k_new*=1-10**(-m)\n",
    "                m+=1\n",
    "                integral,error=integrate.quad(y,k[i],k_new,\n",
    "                limit=50,epsabs=epsabs, epsrel=epsrel)\n",
    "            n+=1\n",
    "        f.value+=1\n",
    "        k[i+1]=k_new\n",
    "    k=k[0:N+1]\n",
    "    k[-1]=a\n",
    "    # Возвращает k размерности N+1, т.о. имеем как раз N интервалов.\n",
    "    # b0 -- значение интеграла по каждому интервалу\n",
    "    # err -- ошибка вычисения интегралов\n",
    "    clear_output()\n",
    "    return k,b0,err"
   ]
  },
  {
   "cell_type": "code",
   "execution_count": 40,
   "metadata": {},
   "outputs": [
    {
     "data": {
      "image/png": "[encoded data removed]",
      "text/plain": [
       "<Figure size 432x288 with 1 Axes>"
      ]
     },
     "metadata": {
      "needs_background": "light"
     },
     "output_type": "display_data"
    }
   ],
   "source": [
    "def nodes(ki,b0):\n",
    "    # Функции interspace и nodes используются последовательно. \n",
    "    # Первая возвращает интервалы,\n",
    "    # а вторая вычисляет в возвращенных интервалах координаты узлов\n",
    "    f=IntProgress(min=0,max=len(ki))\n",
    "    display(f,'Считаю узлы в интервалах')\n",
    "    y=lambda k: k**2*full_spectrum(k)\n",
    "    nodes=zeros(len(ki))\n",
    "    epsabs=1.49e-12\n",
    "    epsrel=1.49e-12\n",
    "    for i in range(1,len(ki)):\n",
    "        integral,error=integrate.quad(y,ki[i-1],ki[i],\n",
    "        limit=50,epsabs=epsabs, epsrel=epsrel)\n",
    "        B=(sqrt(integral/b0))\n",
    "        nodes[i-1]=B\n",
    "        f.value+=1\n",
    "#         print(B)\n",
    "    clear_output()\n",
    "    return nodes[:-1]\n",
    "\n",
    "\n",
    "k=logspace(log10(KT[0]),log10(KT[-1]),10**5)\n",
    "ki,b0,err=interspace(k,100)\n",
    "node=nodes(ki,b0)\n",
    "# k=logspace(log10(KT[0]),log10(KT[-1]),10**3)\n",
    "y=full_spectrum(k)\n",
    "loglog(k,y)\n",
    "for i in node:\n",
    "    axvline(x=i, \n",
    "            ymax=0.95*(\n",
    "                log10(full_spectrum(i)/(min(y)))/(log10(max(y)/min(y)))\n",
    "                 ))"
   ]
  },
  {
   "cell_type": "code",
   "execution_count": 41,
   "metadata": {},
   "outputs": [
    {
     "name": "stdout",
     "output_type": "stream",
     "text": [
      "0.05483874338756292 0.01354134395527272\n"
     ]
    },
    {
     "data": {
      "image/png": "[encoded data removed]",
      "text/plain": [
       "<Figure size 432x288 with 1 Axes>"
      ]
     },
     "metadata": {
      "needs_background": "light"
     },
     "output_type": "display_data"
    }
   ],
   "source": [
    "def correlation_angles(k,rho):\n",
    "    integral=zeros(len(rho))\n",
    "    y=lambda k,rho: k**2*full_spectrum(k)*cos(k*rho)\n",
    "    for i in range(len(rho)):\n",
    "        integral[i]=trapz(y(k,rho[i]),x=k)\n",
    "    return integral\n",
    "    \n",
    "def correlation_angles_sum(k,rho):\n",
    "    f=0\n",
    "    A=amplitude(k)\n",
    "    f=zeros(len(rho))\n",
    "    for j in range(len(rho)):\n",
    "            f[j]=sum( k**2*A**2/2*cos(k*rho[j]) )\n",
    "    return f\n",
    "\n",
    "k=logspace(log10(KT[0]),log10(KT[-1]),10**5)\n",
    "rho=linspace(0,400,400)\n",
    "y=zeros(len(rho))\n",
    "\n",
    "y1=correlation_angles(k,rho)\n",
    "\n",
    "k=node\n",
    "# k=logspace(log10(KT[0]),log10(KT[-1]),10**2)\n",
    "# k=linspace(KT[0],KT[-1],10**5)\n",
    "\n",
    "\n",
    "y=correlation_angles_sum(k,rho)\n",
    "plot(rho,y1/max(y1),label='Реальное поле')\n",
    "plot(rho,y/max(y),label='Модельное поле')\n",
    "\n",
    "legend(fontsize=16)\n",
    "print(y1[0],y[0])\n"
   ]
  },
  {
   "cell_type": "code",
   "execution_count": 45,
   "metadata": {},
   "outputs": [
    {
     "data": {
      "text/plain": [
       "<matplotlib.legend.Legend at 0x17f18c08080>"
      ]
     },
     "execution_count": 45,
     "metadata": {},
     "output_type": "execute_result"
    },
    {
     "data": {
      "image/png": "[encoded data removed]",
      "text/plain": [
       "<Figure size 432x288 with 1 Axes>"
      ]
     },
     "metadata": {
      "needs_background": "light"
     },
     "output_type": "display_data"
    }
   ],
   "source": [
    "# print avada kedavra\n",
    "from scipy.integrate import simps\n",
    "from numpy.linalg import norm\n",
    "\n",
    "def correlation_height(k,rho):\n",
    "    \n",
    "    S=full_spectrum(k)\n",
    "    integral=zeros(len(rho))\n",
    "    for i in range(len(rho)):\n",
    "        integral[i]=trapz(S*cos(k*rho[i]),k)\n",
    "    integral=interpolate.interp1d(rho,integral)\n",
    "    return integral\n",
    "\n",
    "def correlation_height_sum(k,rho):\n",
    "    f=0\n",
    "    A=amplitude(k)\n",
    "    f=zeros(len(rho))\n",
    "    for j in range(len(rho)):\n",
    "            f[j]=sum( A**2/2*cos(k*rho[j]) )\n",
    "    return f\n",
    "\n",
    "    \n",
    "k=logspace(log10(KT[0]),log10(KT[-1]),10**5)\n",
    "rho=linspace(0,400,400)\n",
    "y=zeros(len(rho))\n",
    "y1=correlation_height(k,rho)\n",
    "\n",
    "# k=node\n",
    "# k=logspace(log10(KT[0]),log10(KT[-1]),10**2)\n",
    "# k=linspace(KT[0],KT[-1],10**5)\n",
    "\n",
    "y=correlation_height_sum(k,rho)\n",
    "y1=y1(rho)\n",
    "plot(rho,y1/max(y1),label='Реальное поле')\n",
    "plot(rho,y/max(y),label='Модельное поле')\n",
    "\n",
    "legend(fontsize=16)\n",
    "\n"
   ]
  },
  {
   "cell_type": "code",
   "execution_count": 12,
   "metadata": {},
   "outputs": [
    {
     "ename": "TypeError",
     "evalue": "amplitude() takes 1 positional argument but 2 were given",
     "output_type": "error",
     "traceback": [
      "\u001b[1;31m---------------------------------------------------------------------------\u001b[0m",
      "\u001b[1;31mTypeError\u001b[0m                                 Traceback (most recent call last)",
      "\u001b[1;32m<ipython-input-12-a662723338eb>\u001b[0m in \u001b[0;36m<module>\u001b[1;34m\u001b[0m\n\u001b[0;32m     27\u001b[0m \u001b[0mphi\u001b[0m\u001b[1;33m=\u001b[0m\u001b[0mlinspace\u001b[0m\u001b[1;33m(\u001b[0m\u001b[1;33m-\u001b[0m\u001b[0mpi\u001b[0m\u001b[1;33m,\u001b[0m\u001b[0mpi\u001b[0m\u001b[1;33m,\u001b[0m\u001b[1;36m100\u001b[0m\u001b[1;33m)\u001b[0m\u001b[1;33m\u001b[0m\u001b[1;33m\u001b[0m\u001b[0m\n\u001b[0;32m     28\u001b[0m \u001b[1;33m\u001b[0m\u001b[0m\n\u001b[1;32m---> 29\u001b[1;33m \u001b[0msigma\u001b[0m\u001b[1;33m=\u001b[0m\u001b[0mmodel\u001b[0m\u001b[1;33m(\u001b[0m\u001b[0mk\u001b[0m\u001b[1;33m,\u001b[0m\u001b[0mphi\u001b[0m\u001b[1;33m,\u001b[0m\u001b[0mN\u001b[0m\u001b[1;33m)\u001b[0m\u001b[1;33m\u001b[0m\u001b[1;33m\u001b[0m\u001b[0m\n\u001b[0m\u001b[0;32m     30\u001b[0m \u001b[0mx\u001b[0m\u001b[1;33m=\u001b[0m\u001b[0mlinspace\u001b[0m\u001b[1;33m(\u001b[0m\u001b[1;36m0\u001b[0m\u001b[1;33m,\u001b[0m\u001b[1;36m400\u001b[0m\u001b[1;33m,\u001b[0m\u001b[1;36m400\u001b[0m\u001b[1;33m)\u001b[0m\u001b[1;33m\u001b[0m\u001b[1;33m\u001b[0m\u001b[0m\n\u001b[0;32m     31\u001b[0m \u001b[0my\u001b[0m\u001b[1;33m=\u001b[0m\u001b[0mlinspace\u001b[0m\u001b[1;33m(\u001b[0m\u001b[1;36m0\u001b[0m\u001b[1;33m,\u001b[0m\u001b[1;36m400\u001b[0m\u001b[1;33m,\u001b[0m\u001b[1;36m400\u001b[0m\u001b[1;33m)\u001b[0m\u001b[1;33m\u001b[0m\u001b[1;33m\u001b[0m\u001b[0m\n",
      "\u001b[1;32m<ipython-input-12-a662723338eb>\u001b[0m in \u001b[0;36mmodel\u001b[1;34m(k, phi, N)\u001b[0m\n\u001b[0;32m      3\u001b[0m     \u001b[0mU10\u001b[0m\u001b[1;33m=\u001b[0m\u001b[1;36m10\u001b[0m\u001b[1;33m\u001b[0m\u001b[1;33m\u001b[0m\u001b[0m\n\u001b[0;32m      4\u001b[0m     \u001b[0mrho\u001b[0m\u001b[1;33m=\u001b[0m\u001b[0mlinspace\u001b[0m\u001b[1;33m(\u001b[0m\u001b[1;36m0\u001b[0m\u001b[1;33m,\u001b[0m\u001b[1;36m400\u001b[0m\u001b[1;33m,\u001b[0m\u001b[1;36m400\u001b[0m\u001b[1;33m)\u001b[0m\u001b[1;33m\u001b[0m\u001b[1;33m\u001b[0m\u001b[0m\n\u001b[1;32m----> 5\u001b[1;33m     \u001b[0mA\u001b[0m\u001b[1;33m=\u001b[0m\u001b[0mamplitude\u001b[0m\u001b[1;33m(\u001b[0m\u001b[0mk\u001b[0m\u001b[1;33m,\u001b[0m\u001b[0mN\u001b[0m\u001b[1;33m)\u001b[0m\u001b[1;33m\u001b[0m\u001b[1;33m\u001b[0m\u001b[0m\n\u001b[0m\u001b[0;32m      6\u001b[0m     \u001b[0mF\u001b[0m\u001b[1;33m=\u001b[0m\u001b[0mangle\u001b[0m\u001b[1;33m(\u001b[0m\u001b[0mk\u001b[0m\u001b[1;33m,\u001b[0m\u001b[0mphi\u001b[0m\u001b[1;33m)\u001b[0m\u001b[1;33m\u001b[0m\u001b[1;33m\u001b[0m\u001b[0m\n\u001b[0;32m      7\u001b[0m     psi=array([\n",
      "\u001b[1;31mTypeError\u001b[0m: amplitude() takes 1 positional argument but 2 were given"
     ]
    }
   ],
   "source": [
    "from numpy import random\n",
    "def model(k,phi,N):\n",
    "    U10=10\n",
    "    rho=linspace(0,400,400)\n",
    "    A=amplitude(k,N)\n",
    "    F=angle(k,phi)\n",
    "    psi=array([\n",
    "    [ random.uniform(0,2*pi) for j in range(100)] \n",
    "      for i in range(N)              ]) \n",
    "    \n",
    "    def water(r,phi,t=0):\n",
    "        model=0\n",
    "        for n in range(N):\n",
    "            for m in range(100):\n",
    "                model+=A[n]*cos(\n",
    "                    k[n]*(r[0]*cos(phi[m])+r[1]*sin(phi[m]))+psi[n][m]\n",
    "                )*F[n][m]\n",
    "        return model\n",
    "    \n",
    "    return water\n",
    "\n",
    "k=logspace(log10(KT[0]),log10(KT[-1]),10**5)\n",
    "rho=linspace(0,400,400)\n",
    "# N=find_garmonics(k,rho)\n",
    "N=4500\n",
    "k=logspace(log10(KT[0]),log10(KT[-1]),N)\n",
    "phi=linspace(-pi,pi,100)\n",
    "\n",
    "sigma=model(k,phi,N)\n",
    "x=linspace(0,400,400)\n",
    "y=linspace(0,400,400)\n",
    "water=sigma([x,y],phi)\n",
    "start_time = time.time()\n",
    "plot(x,water)\n",
    "dispersion=std(water)\n",
    "# mn=mean(sigma(x))\n",
    "print('Дисперсия =',dispersion)\n",
    "# print('Среднее=',mn)\n",
    "print(correlation_height(k,[0]))"
   ]
  }
 ],
 "metadata": {
  "kernelspec": {
   "display_name": "Python 3",
   "language": "python",
   "name": "python3"
  },
  "language_info": {
   "codemirror_mode": {
    "name": "ipython",
    "version": 3
   },
   "file_extension": ".py",
   "mimetype": "text/x-python",
   "name": "python",
   "nbconvert_exporter": "python",
   "pygments_lexer": "ipython3",
   "version": "3.7.1"
  }
 },
 "nbformat": 4,
 "nbformat_minor": 2
}
