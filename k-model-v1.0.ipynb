{
 "cells": [
  {
   "cell_type": "code",
   "execution_count": 62,
   "metadata": {
    "slideshow": {
     "slide_type": "-"
    }
   },
   "outputs": [
    {
     "data": {
      "application/javascript": [
       "MathJax.Hub.Config({\n",
       "  TeX: { \n",
       "    equationNumbers: { autoNumber: \"AMS\" } \n",
       "    }\n",
       "});\n"
      ],
      "text/plain": [
       "<IPython.core.display.Javascript object>"
      ]
     },
     "metadata": {},
     "output_type": "display_data"
    }
   ],
   "source": [
    "%%js\n",
    "MathJax.Hub.Config({\n",
    "  TeX: { \n",
    "    equationNumbers: { autoNumber: \"AMS\" } \n",
    "    }\n",
    "});\n"
   ]
  },
  {
   "cell_type": "markdown",
   "metadata": {},
   "source": [
    "# Моделирование\n",
    "## Распределение амплитуд"
   ]
  },
  {
   "cell_type": "code",
   "execution_count": 63,
   "metadata": {},
   "outputs": [],
   "source": [
    "from pylab import *\n",
    "rcParams['figure.figsize'] = [7, 6]\n",
    "rcParams['axes.labelsize'] = 20\n",
    "from math import pi\n",
    "from IPython.display import display, Math,Latex\n",
    "import pandas as pd\n",
    "import time\n"
   ]
  },
  {
   "cell_type": "markdown",
   "metadata": {},
   "source": [
    "$\\renewcommand{\\phi}{\\varphi}$\n",
    "Для моделирования случайной поверхности $\\Sigma(\\vec{r},t)$ используется ее представление в виде суперпозиции плоских волн (гармоник) с различными частотами $\\omega_n$ и случайными фазами $\\Psi_{nm}$, бегущих под разными азимутальными углами $\\phi_m$:\n",
    "$$\\begin{equation*}\n",
    "    \\Sigma(\\vec{r},t)=\\sum\\limits_{n=1}^N\\sum_{m=1}^M A_n\n",
    "    cos(\\omega_nt+\\vec{k_n}\\vec{r}+\\Psi_{nm})\\cdot\\Phi_{nm}\n",
    "    (\\omega_n,\\phi_m)\n",
    "    \\label{eq:1}\n",
    "\\end{equation*}$$\n",
    "Далее будут приведены основные соотношения, необходимые для этого уравнения"
   ]
  },
  {
   "cell_type": "code",
   "execution_count": 64,
   "metadata": {},
   "outputs": [],
   "source": [
    "def find_decision(omega):\n",
    "    P = 9.8*1000.0/0.074;\n",
    "    Q = -1000.0*omega**2/0.074;\n",
    "    x1= -Q/2.0 + sqrt( (Q/2)**2 + (P/3)**3 )\n",
    "    x2= -Q/2.0 - sqrt( (Q/2)**2 + (P/3)**3 )\n",
    "    k=x1**(1/3)-(-x2)**(1/3)\n",
    "    return k\n",
    "\n",
    "def det(k): \n",
    "#    Функция возвращает детерминант при переходе от частоты к \n",
    "#волновым числам по полному дисперсионному\n",
    "    det=(9.8+3*k**2*0.074/1000)/(2*sqrt(9.8*k+k**3*0.074/1000) )\n",
    "    return det"
   ]
  },
  {
   "cell_type": "markdown",
   "metadata": {},
   "source": [
    "Дисперсионное уравнение $\\omega(k)=\\sqrt{ gk+0.074\\frac{k}{1000} }$"
   ]
  },
  {
   "cell_type": "code",
   "execution_count": null,
   "metadata": {},
   "outputs": [],
   "source": []
  },
  {
   "cell_type": "markdown",
   "metadata": {},
   "source": [
    "Вычисление безразмерной частоты $\\tilde{\\omega}$ по безразмерному разгону $\\tilde{x}$ "
   ]
  },
  {
   "cell_type": "code",
   "execution_count": null,
   "metadata": {},
   "outputs": [],
   "source": []
  },
  {
   "cell_type": "markdown",
   "metadata": {},
   "source": [
    "Вычисление безразмерных коэффициентов $\\gamma$ и $\\alpha$"
   ]
  },
  {
   "cell_type": "code",
   "execution_count": null,
   "metadata": {},
   "outputs": [],
   "source": []
  },
  {
   "cell_type": "code",
   "execution_count": 65,
   "metadata": {},
   "outputs": [
    {
     "name": "stdout",
     "output_type": "stream",
     "text": [
      "Время выполнения --- 0.47800326347351074 c\n"
     ]
    },
    {
     "data": {
      "text/plain": [
       "[<matplotlib.lines.Line2D at 0x23cc69f6ef0>]"
      ]
     },
     "execution_count": 65,
     "metadata": {},
     "output_type": "execute_result"
    },
    {
     "data": {
      "image/png": "[encoded data removed]",
      "text/plain": [
       "<Figure size 504x432 with 1 Axes>"
      ]
     },
     "metadata": {
      "needs_background": "light"
     },
     "output_type": "display_data"
    }
   ],
   "source": [
    "global g\n",
    "g=9.81\n",
    "def k_max(omega_max):\n",
    "    k_max=omega_max**2/g\n",
    "    return k_max\n",
    "\n",
    "def omega_k(k): # Пересчет волнового числа в частоту по полному дисперсионному\n",
    "    omega_k=(g*k+0.074*k**3/1000)**(1/2) #Сложное дисперсионное\n",
    "    return omega_k  \n",
    "\n",
    "def full_spectrum(k,x=20170, long_calculate=True):\n",
    "    def JONSWAP(k):\n",
    "        if k<=k_m:\n",
    "            sigma=0.07\n",
    "        else:\n",
    "            sigma=0.09\n",
    "        Sw=(\n",
    "            Alpha(x)/2*k**(-3)*exp(-1.25*(k_m/k)**2 )*\n",
    "            Gamma(x)**(exp(- ( sqrt(k/k_m)-1)**2 / (2*sigma**2) ))\n",
    "           )\n",
    "        return Sw\n",
    "\n",
    "    def Gamma(x):\n",
    "        if x>=20170:\n",
    "            return 1\n",
    "        gamma=(\n",
    "               +5.253660929\n",
    "               +0.000107622*x\n",
    "               -0.03778776*sqrt(x)\n",
    "               -162.9834653/sqrt(x)\n",
    "               +253251.456472*x**(-3/2)\n",
    "              )\n",
    "        return gamma\n",
    "\n",
    "    def Alpha(x):\n",
    "        if x>=20170:\n",
    "            return 0.0081\n",
    "        alpha=array([],dtype='float64')\n",
    "        alpha=[( \n",
    "               +0.0311937\n",
    "               -0.00232774*log(x)\n",
    "               -8367.8678786/x**2\n",
    "               +4.5114599e+300*exp(-x)*1e+300*1e+17\n",
    "    #            +4.5114599e+17*exp(-x)\n",
    "              )]\n",
    "        return alpha[0]\n",
    "\n",
    "    def Omega(x): #Вычисление безразмерной частоты по безразмерному разгону\n",
    "        if x>=20170:\n",
    "            return 0.835\n",
    "        omega_tilde=(0.61826357843576103 \n",
    "                     + 3.52883010586243843e-06*x\n",
    "                     - 0.00197508032233982112*sqrt(x)\n",
    "                     + 62.5540113059129759/sqrt(x)\n",
    "                     - 290.214120684236224/x\n",
    "        )\n",
    "        return omega_tilde\n",
    "\n",
    "    def spectrum1(k):\n",
    "\n",
    "\n",
    "        omega0=omega_k(limit_k[0])\n",
    "        beta0= JONSWAP(limit_k[0])*omega0**4/det(limit_k[0])\n",
    "\n",
    "        omega0=omega_k(k)\n",
    "\n",
    "        return beta0/omega0**4*det(k)\n",
    "\n",
    "    def spectrum2(k):\n",
    "\n",
    "\n",
    "        omega0=omega_k(limit_k[1])\n",
    "        beta0= spectrum1(limit_k[1])*omega0**5/det(limit_k[1])\n",
    "\n",
    "        omega0=omega_k(k)\n",
    "\n",
    "        return beta0/omega0**5*det(k)\n",
    "\n",
    "    def spectrum3(k):\n",
    "\n",
    "\n",
    "        omega0=omega_k(limit_k[2])\n",
    "        beta0= spectrum2(limit_k[2])*omega0**2.7/det(limit_k[2])\n",
    "\n",
    "        omega0=omega_k(k)\n",
    "\n",
    "        return beta0/omega0**2.7*det(k)\n",
    "\n",
    "    def spectrum4(k):\n",
    "\n",
    "\n",
    "        omega0=omega_k(limit_k[3])\n",
    "        beta0= spectrum3(limit_k[3])*omega0**5/det(limit_k[3])\n",
    "\n",
    "        omega0=omega_k(k)\n",
    "\n",
    "        return beta0*det(k)/omega0**5\n",
    "    \n",
    "#     def spectrum(k):\n",
    "#         omega0=[omega_k(limit_k[i]) for i in range(4)]\n",
    "#         p=[4,5,2.7,5]\n",
    "#         S=[0,0,0,0]\n",
    "#         S[0]=lambda a: JONSWAP(limit_k[0]) * (omega0[0]/omega_k(a))**p[0] * det(a)/det(limit_k[0])\n",
    "#         S[1]=lambda a: S[0](limit_k[1])    * (omega0[1]/omega_k(a))**p[1] * det(a)/det(limit_k[1])\n",
    "#         S[2]=lambda a: S[1](limit_k[2])    * (omega0[2]/omega_k(a))**p[2] * det(a)/det(limit_k[2])\n",
    "#         S[3]=lambda a: S[2](limit_k[3])    * (omega0[3]/omega_k(a))**p[3] * det(a)/det(limit_k[3])\n",
    "#         spectrum=zeros((len(k),4))\n",
    "#         for j in range(len(k)):\n",
    "#             for i in range(4):\n",
    "#                 spectrum[j][i]=S[i](k[j])\n",
    "#         return spectrum\n",
    "    \n",
    "    gamma,alpha,omega_m=Gamma(x),Alpha(x),Omega(x)\n",
    "    \n",
    "    try:\n",
    "        full_spectrum=zeros(len(k))\n",
    "    except:\n",
    "        full_spectrum=[0]\n",
    "        k=[k]\n",
    "    if long_calculate==False:\n",
    "        k=logspace(log10(k[0]),log10(k[-1]),1000)\n",
    "        \n",
    "    omega=omega_m*g/U10\n",
    "    global k_m\n",
    "    k_m=k_max(omega)\n",
    "    limit_1= 1.2   #{ НАЧИНАЕТСЯ  - 1/(W**4) }\n",
    "    limit_2=(\n",
    "             +0.371347584096022408 \n",
    "             + 0.290241610467870486*U10\n",
    "             + 0.290178032985796564/U10\n",
    "            )\n",
    "    limit_3= 270.0 #{ НАЧИНАЕТСЯ 1/W**2.7 }\n",
    "    limit_4= 1020.0 #{ НАЧИНАЕТСЯ 1/W*5 }\n",
    "\n",
    "    limit_k=np.zeros(4)\n",
    "    limit_k[0]=find_decision(limit_1*omega)\n",
    "    limit_k[1]=find_decision(limit_2*omega)\n",
    "    limit_k[2]=limit_3\n",
    "    limit_k[3]=limit_4\n",
    "\n",
    "    for i in range(len(k)):\n",
    "        if k[i] <= limit_k[0]:\n",
    "            full_spectrum[i] =  JONSWAP(k[i])\n",
    "        elif k[i] <= limit_k[1]:\n",
    "            full_spectrum[i] = spectrum1(k[i])\n",
    "        elif k[i] <= limit_k[2]:\n",
    "            full_spectrum[i] = spectrum2(k[i])\n",
    "        elif k[i] <= limit_k[3]:\n",
    "            full_spectrum[i] = spectrum3(k[i])\n",
    "        else:\n",
    "            full_spectrum[i] = spectrum4(k[i])\n",
    "\n",
    "#     S=spectrum(k)\n",
    "#     for i in range(len(k)):\n",
    "#         if k[i] <= limit_k[0]:\n",
    "#             full_spectrum[i] =  JONSWAP(k[i])\n",
    "#         elif k[i] <= limit_k[1]:\n",
    "#             full_spectrum[i] = S[i][0]\n",
    "#         elif k[i] <= limit_k[2]:\n",
    "#             full_spectrum[i] = S[i][1]\n",
    "#         elif k[i] <= limit_k[3]:\n",
    "#             full_spectrum[i] = S[i][2]\n",
    "#         else:\n",
    "#             full_spectrum[i] = S[i][3]\n",
    "\n",
    "    return full_spectrum\n",
    "\n",
    "U10=10\n",
    "name='SEAWVS_1.dat'\n",
    "data=pd.read_csv(name,sep='\\s+')\n",
    "KT=array(data['KT'])\n",
    "OUR=array(data['OUR'])\n",
    "loglog(KT,OUR)\n",
    "k=linspace(KT[0],KT[-1],len(KT))\n",
    "k=logspace(log10(k[0]),log10(k[-1]),10000)\n",
    "start_time = time.time()\n",
    "S=full_spectrum(k,x=20170)\n",
    "print(\"Время выполнения --- %s c\" % (time.time() - start_time))\n",
    "loglog(k,k**3*S)\n"
   ]
  },
  {
   "cell_type": "code",
   "execution_count": null,
   "metadata": {},
   "outputs": [],
   "source": []
  },
  {
   "cell_type": "code",
   "execution_count": 66,
   "metadata": {},
   "outputs": [
    {
     "data": {
      "image/png": "[encoded data removed]",
      "text/plain": [
       "<Figure size 504x432 with 1 Axes>"
      ]
     },
     "metadata": {
      "needs_background": "light"
     },
     "output_type": "display_data"
    }
   ],
   "source": [
    "x=15000\n",
    "\n",
    "U10=5\n",
    "k=logspace(-1.5,3.5,10*4)\n",
    "C=full_spectrum(k,x)\n",
    "loglog(k,C,label='$U=5$')\n",
    "\n",
    "U10=10\n",
    "k=logspace(-2,3.5,10*4)\n",
    "C=full_spectrum(k,x)\n",
    "loglog(k,C,label='$U=10$')\n",
    "\n",
    "U10=15\n",
    "k=logspace(-2.5,3.5,10*4)\n",
    "C=full_spectrum(k,x)\n",
    "loglog(k,C,label='$U=15$')\n",
    "\n",
    "legend()\n",
    "xlabel('$k$')\n",
    "ylabel('$S_{k}$')\n",
    "ylim((10**(-15),50))\n",
    "show()"
   ]
  },
  {
   "cell_type": "code",
   "execution_count": 67,
   "metadata": {},
   "outputs": [
    {
     "data": {
      "text/plain": [
       "<matplotlib.legend.Legend at 0x23cb8d95f28>"
      ]
     },
     "execution_count": 67,
     "metadata": {},
     "output_type": "execute_result"
    },
    {
     "data": {
      "image/png": "[encoded data removed]",
      "text/plain": [
       "<Figure size 504x432 with 1 Axes>"
      ]
     },
     "metadata": {
      "needs_background": "light"
     },
     "output_type": "display_data"
    }
   ],
   "source": [
    "xx=arange(1430,20000,3000)\n",
    "U10=10\n",
    "for n in xx:\n",
    "    x=n\n",
    "    k=logspace(-2.5,3.5,10*4)\n",
    "    C=full_spectrum(k,n)\n",
    "    loglog(k,C,label='$\\\\~{x}=$'+'{0}'.format(x))\n",
    "\n",
    "ylim([10**-30,10])\n",
    "xlabel('$k$')\n",
    "ylabel('$S_{k}$')\n",
    "legend()"
   ]
  },
  {
   "cell_type": "markdown",
   "metadata": {},
   "source": [
    "## Угловое распределение\n",
    "Угловое распределение $\\Phi_{\\omega}$ описывается следующей формулой:\n",
    "$$\\Phi_{\\omega}=A\\cdot\\frac{2}{\\exp(2B\\phi)+\\exp(-2B\\phi)}=\\frac{A}{\\cosh(2B\\phi)},\\, -\\pi\\leq\\phi\\leq\\pi$$\n",
    "Где $B=10^b$, а b описывается следующей формулой:\n",
    "$$b=-0.28+0.65\\exp\\left\\{-0.75\\log(\\frac{k}{k_m})\\right\\}+0.01\\exp\\left\\{0.2+0.7\\lg(\\frac{k}{k_m})\\right\\}$$"
   ]
  },
  {
   "cell_type": "code",
   "execution_count": 99,
   "metadata": {},
   "outputs": [
    {
     "data": {
      "text/latex": [
       "$\\displaystyle Интеграл\\,функции\\,распределения:\\\\\\displaystyle\\int\\limits_{-\\pi}^{\\pi}\\Phi_{\\omega}(\\omega,\\phi)d\\phi=0.999999885619261 \\simeq  1.0$"
      ],
      "text/plain": [
       "<IPython.core.display.Math object>"
      ]
     },
     "metadata": {},
     "output_type": "display_data"
    },
    {
     "data": {
      "image/png": "[encoded data removed]",
      "text/plain": [
       "<Figure size 504x432 with 1 Axes>"
      ]
     },
     "metadata": {
      "needs_background": "light"
     },
     "output_type": "display_data"
    }
   ],
   "source": [
    "def B(k):\n",
    "    def b(k):\n",
    "        b=(\n",
    "            -0.28+0.65*exp(-0.75*log(k/k_m))\n",
    "            +0.01*exp(-0.2+0.7*log10(k/k_m))  \n",
    "          )          \n",
    "        return b\n",
    "    B=10**b(k)\n",
    "    return B\n",
    "\n",
    "def A(B):\n",
    "    A=B/arctan(sinh(2*pi*B))\n",
    "    return A\n",
    "\n",
    "def Phi(phi,k):\n",
    "    B0=B(k)\n",
    "    A0=A(B0)\n",
    "    Phi=A0/cosh(2*B0*phi)\n",
    "    return Phi\n",
    "\n",
    "x=linspace(-pi,pi,1000)\n",
    "y=Phi(x,1)\n",
    "plot(x,y)\n",
    "\n",
    "integral=trapz(y,x,dx=0.1)\n",
    "display(Math\n",
    "(\n",
    " r'Интеграл\\,функции\\,распределения:\\\\'\n",
    " +'\\displaystyle\\int\\limits_{-\\pi}^{\\pi}'\n",
    " +'\\Phi_{\\omega}(\\omega,\\phi)d\\phi'\n",
    " +'={0} \\simeq  {1}'.format(integral,round(integral,3)) \n",
    ")\n",
    "       )"
   ]
  },
  {
   "cell_type": "markdown",
   "metadata": {},
   "source": [
    "# Двумерная функция спектра волнения"
   ]
  },
  {
   "cell_type": "markdown",
   "metadata": {},
   "source": [
    "## Дисперсия высот"
   ]
  },
  {
   "cell_type": "code",
   "execution_count": 91,
   "metadata": {},
   "outputs": [],
   "source": [
    "def F1(k,phi):\n",
    "    F1=full_spectrum(k)*Phi(phi,k)*A(k)\n",
    "    return F1"
   ]
  },
  {
   "cell_type": "markdown",
   "metadata": {},
   "source": [
    "## Дисперсия наклонов $\\sigma_{xx}$"
   ]
  },
  {
   "cell_type": "code",
   "execution_count": 97,
   "metadata": {},
   "outputs": [],
   "source": [
    "def sigma_xx(k,phi):\n",
    "    F2=(\n",
    "        full_spectrum(k)*(x*cos(phi))**2\n",
    "        *Phi(phi,k)*A(k)\n",
    "       )\n",
    "    return F2"
   ]
  },
  {
   "cell_type": "markdown",
   "metadata": {},
   "source": [
    "## Дисперсия наклонов $\\sigma_{yy}$"
   ]
  },
  {
   "cell_type": "code",
   "execution_count": 98,
   "metadata": {},
   "outputs": [],
   "source": [
    "def sigma_yy(k,phi):\n",
    "    F3=(\n",
    "        full_spectrum(k)*(x*sin(phi))**2\n",
    "        *Phi(phi,k)*A(k)\n",
    "       )\n",
    "    return F3"
   ]
  },
  {
   "cell_type": "markdown",
   "metadata": {},
   "source": [
    "## Орбитальная скорость $\\sigma^x_{tt}$ в проекции на ось $x$"
   ]
  },
  {
   "cell_type": "code",
   "execution_count": 95,
   "metadata": {},
   "outputs": [],
   "source": [
    "def F4(k,phi):\n",
    "    omega=omega_k(k)\n",
    "    F4=(\n",
    "        full_spectrum(k)*(omega*cos(phi))**2\n",
    "        *Phi(phi,k)*A(k)\n",
    "       )\n",
    "    return F4"
   ]
  },
  {
   "cell_type": "markdown",
   "metadata": {},
   "source": [
    "## Орбитальная скорость $\\sigma^x_{tt}$"
   ]
  },
  {
   "cell_type": "code",
   "execution_count": 96,
   "metadata": {},
   "outputs": [],
   "source": [
    "def F5(k,phi):\n",
    "    omega=omega_k(k)\n",
    "    F5=(\n",
    "        full_spectrum(k)*(omega*sin(phi))**2\n",
    "        *Phi(phi,k)*A(k)\n",
    "       )\n",
    "    return F3"
   ]
  },
  {
   "cell_type": "code",
   "execution_count": 83,
   "metadata": {},
   "outputs": [],
   "source": [
    "def A(omega,n,U10,x):\n",
    "    A=sqrt(2*(n*omega-(n-1)*omega)*S0(omega,U10,x))\n",
    "    return A\n",
    "\n",
    "def Phi0(phi,omega,U10):\n",
    "    Phi0=sqrt(2*pi/100* Phi(phi,omega,U10) )\n",
    "    return Phi0"
   ]
  },
  {
   "cell_type": "code",
   "execution_count": 85,
   "metadata": {},
   "outputs": [
    {
     "ename": "TypeError",
     "evalue": "Phi0() missing 1 required positional argument: 'U10'",
     "output_type": "error",
     "traceback": [
      "\u001b[1;31m---------------------------------------------------------------------------\u001b[0m",
      "\u001b[1;31mTypeError\u001b[0m                                 Traceback (most recent call last)",
      "\u001b[1;32m<ipython-input-85-15e1b1b172a3>\u001b[0m in \u001b[0;36m<module>\u001b[1;34m\u001b[0m\n\u001b[0;32m      1\u001b[0m \u001b[0mx\u001b[0m\u001b[1;33m=\u001b[0m\u001b[0mlinspace\u001b[0m\u001b[1;33m(\u001b[0m\u001b[1;33m-\u001b[0m\u001b[0mpi\u001b[0m\u001b[1;33m,\u001b[0m\u001b[0mpi\u001b[0m\u001b[1;33m,\u001b[0m\u001b[1;36m1000\u001b[0m\u001b[1;33m)\u001b[0m\u001b[1;33m\u001b[0m\u001b[1;33m\u001b[0m\u001b[0m\n\u001b[1;32m----> 2\u001b[1;33m \u001b[0my\u001b[0m\u001b[1;33m=\u001b[0m\u001b[0mPhi0\u001b[0m\u001b[1;33m(\u001b[0m\u001b[0mx\u001b[0m\u001b[1;33m,\u001b[0m\u001b[1;36m60\u001b[0m\u001b[1;33m)\u001b[0m\u001b[1;33m\u001b[0m\u001b[1;33m\u001b[0m\u001b[0m\n\u001b[0m\u001b[0;32m      3\u001b[0m \u001b[0mplot\u001b[0m\u001b[1;33m(\u001b[0m\u001b[0mx\u001b[0m\u001b[1;33m,\u001b[0m\u001b[0my\u001b[0m\u001b[1;33m)\u001b[0m\u001b[1;33m\u001b[0m\u001b[1;33m\u001b[0m\u001b[0m\n",
      "\u001b[1;31mTypeError\u001b[0m: Phi0() missing 1 required positional argument: 'U10'"
     ]
    }
   ],
   "source": [
    "x=linspace(-pi,pi,1000)\n",
    "y=Phi0(x,60)\n",
    "plot(x,y)"
   ]
  },
  {
   "cell_type": "code",
   "execution_count": null,
   "metadata": {},
   "outputs": [],
   "source": []
  }
 ],
 "metadata": {
  "kernelspec": {
   "display_name": "Python 3",
   "language": "python",
   "name": "python3"
  },
  "language_info": {
   "codemirror_mode": {
    "name": "ipython",
    "version": 3
   },
   "file_extension": ".py",
   "mimetype": "text/x-python",
   "name": "python",
   "nbconvert_exporter": "python",
   "pygments_lexer": "ipython3",
   "version": "3.7.1"
  }
 },
 "nbformat": 4,
 "nbformat_minor": 2
}
