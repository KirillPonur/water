{
 "cells": [
  {
   "cell_type": "code",
   "execution_count": 1,
   "metadata": {
    "slideshow": {
     "slide_type": "-"
    }
   },
   "outputs": [
    {
     "data": {
      "application/javascript": [
       "MathJax.Hub.Config({\n",
       "  TeX: { \n",
       "    equationNumbers: { autoNumber: \"AMS\" } \n",
       "    }\n",
       "});\n"
      ],
      "text/plain": [
       "<IPython.core.display.Javascript object>"
      ]
     },
     "metadata": {},
     "output_type": "display_data"
    }
   ],
   "source": [
    "%%js\n",
    "MathJax.Hub.Config({\n",
    "  TeX: { \n",
    "    equationNumbers: { autoNumber: \"AMS\" } \n",
    "    }\n",
    "});"
   ]
  },
  {
   "cell_type": "markdown",
   "metadata": {},
   "source": [
    "# Моделирование\n",
    "## Распределение амплитуд"
   ]
  },
  {
   "cell_type": "code",
   "execution_count": 2,
   "metadata": {},
   "outputs": [],
   "source": [
    "from pylab import *\n",
    "rcParams['figure.figsize'] = [7, 6]\n",
    "rcParams['axes.labelsize'] = 20\n",
    "from math import pi\n",
    "from IPython.display import display, Math,Latex,HTML\n",
    "import pandas as pd\n",
    "import time\n",
    "from matplotlib import animation\n",
    "%load_ext skip"
   ]
  },
  {
   "cell_type": "markdown",
   "metadata": {},
   "source": [
    "$\\renewcommand{\\phi}{\\varphi}$\n",
    "Для моделирования случайной поверхности $\\Sigma(\\vec{r},t)$ используется ее представление в виде суперпозиции плоских волн (гармоник) с различными частотами $\\omega_n$ и случайными фазами $\\Psi_{nm}$, бегущих под разными азимутальными углами $\\phi_m$:\n",
    "$$\\begin{equation*}\n",
    "    \\Sigma(\\vec{r},t)=\\sum\\limits_{n=1}^N\\sum_{m=1}^M A_n\n",
    "    cos(\\omega_nt+\\vec{k_n}\\vec{r}+\\Psi_{nm})\\cdot\\Phi_{nm}\n",
    "    (\\omega_n,\\phi_m)\n",
    "    \\label{eq:1}\n",
    "\\end{equation*}$$\n",
    "Далее будут приведены основные соотношения, необходимые для этого уравнения"
   ]
  },
  {
   "cell_type": "code",
   "execution_count": 3,
   "metadata": {},
   "outputs": [],
   "source": [
    "def find_decision(omega):\n",
    "    P = 9.8*1000.0/0.074;\n",
    "    Q = -1000.0*omega**2/0.074;\n",
    "    x1= -Q/2.0 + sqrt( (Q/2)**2 + (P/3)**3 )\n",
    "    x2= -Q/2.0 - sqrt( (Q/2)**2 + (P/3)**3 )\n",
    "    k=x1**(1/3)-(-x2)**(1/3)\n",
    "    return k\n",
    "\n",
    "def det(k): \n",
    "#    Функция возвращает детерминант при переходе от частоты к \n",
    "#волновым числам по полному дисперсионному\n",
    "    det=(9.8+3*k**2*0.074/1000)/(2*sqrt(9.8*k+k**3*0.074/1000) )\n",
    "    return det"
   ]
  },
  {
   "cell_type": "markdown",
   "metadata": {},
   "source": [
    "Дисперсионное уравнение $\\omega(k)=\\sqrt{ gk+0.074\\frac{k}{1000} }$"
   ]
  },
  {
   "cell_type": "code",
   "execution_count": null,
   "metadata": {},
   "outputs": [],
   "source": []
  },
  {
   "cell_type": "markdown",
   "metadata": {},
   "source": [
    "Вычисление безразмерной частоты $\\tilde{\\omega}$ по безразмерному разгону $\\tilde{x}$ "
   ]
  },
  {
   "cell_type": "code",
   "execution_count": null,
   "metadata": {},
   "outputs": [],
   "source": []
  },
  {
   "cell_type": "markdown",
   "metadata": {},
   "source": [
    "Вычисление безразмерных коэффициентов $\\gamma$ и $\\alpha$"
   ]
  },
  {
   "cell_type": "code",
   "execution_count": null,
   "metadata": {},
   "outputs": [],
   "source": []
  },
  {
   "cell_type": "code",
   "execution_count": 4,
   "metadata": {},
   "outputs": [],
   "source": [
    "global g\n",
    "g=9.81\n",
    "def k_max(omega_max):\n",
    "    k_max=omega_max**2/g\n",
    "    return k_max\n",
    "\n",
    "def omega_k(k): # Пересчет волнового числа в частоту по полному дисперсионному\n",
    "    omega_k=(g*k+0.074*k**3/1000)**(1/2) #Сложное дисперсионное\n",
    "    return omega_k  \n",
    "\n",
    "def full_spectrum(k,x=20170, long_calculate=True):\n",
    "    def JONSWAP(k):\n",
    "        if k<=k_m:\n",
    "            sigma=0.07\n",
    "        else:\n",
    "            sigma=0.09\n",
    "        Sw=(\n",
    "            Alpha(x)/2*k**(-3)*exp(-1.25*(k_m/k)**2 )*\n",
    "            Gamma(x)**(exp(- ( sqrt(k/k_m)-1)**2 / (2*sigma**2) ))\n",
    "           )\n",
    "        return Sw\n",
    "\n",
    "    def Gamma(x):\n",
    "        if x>=20170:\n",
    "            return 1\n",
    "        gamma=(\n",
    "               +5.253660929\n",
    "               +0.000107622*x\n",
    "               -0.03778776*sqrt(x)\n",
    "               -162.9834653/sqrt(x)\n",
    "               +253251.456472*x**(-3/2)\n",
    "              )\n",
    "        return gamma\n",
    "\n",
    "    def Alpha(x):\n",
    "        if x>=20170:\n",
    "            return 0.0081\n",
    "        alpha=array([],dtype='float64')\n",
    "        alpha=[( \n",
    "               +0.0311937\n",
    "               -0.00232774*log(x)\n",
    "               -8367.8678786/x**2\n",
    "               +4.5114599e+300*exp(-x)*1e+300*1e+17\n",
    "    #            +4.5114599e+17*exp(-x)\n",
    "              )]\n",
    "        return alpha[0]\n",
    "\n",
    "    def Omega(x): #Вычисление безразмерной частоты по безразмерному разгону\n",
    "        if x>=20170:\n",
    "            return 0.835\n",
    "        omega_tilde=(0.61826357843576103 \n",
    "                     + 3.52883010586243843e-06*x\n",
    "                     - 0.00197508032233982112*sqrt(x)\n",
    "                     + 62.5540113059129759/sqrt(x)\n",
    "                     - 290.214120684236224/x\n",
    "        )\n",
    "        return omega_tilde\n",
    "\n",
    "    def spectrum1(k):\n",
    "\n",
    "\n",
    "        omega0=omega_k(limit_k[0])\n",
    "        beta0= JONSWAP(limit_k[0])*omega0**4/det(limit_k[0])\n",
    "\n",
    "        omega0=omega_k(k)\n",
    "\n",
    "        return beta0/omega0**4*det(k)\n",
    "\n",
    "    def spectrum2(k):\n",
    "\n",
    "\n",
    "        omega0=omega_k(limit_k[1])\n",
    "        beta0= spectrum1(limit_k[1])*omega0**5/det(limit_k[1])\n",
    "\n",
    "        omega0=omega_k(k)\n",
    "\n",
    "        return beta0/omega0**5*det(k)\n",
    "\n",
    "    def spectrum3(k):\n",
    "\n",
    "\n",
    "        omega0=omega_k(limit_k[2])\n",
    "        beta0= spectrum2(limit_k[2])*omega0**2.7/det(limit_k[2])\n",
    "\n",
    "        omega0=omega_k(k)\n",
    "\n",
    "        return beta0/omega0**2.7*det(k)\n",
    "\n",
    "    def spectrum4(k):\n",
    "\n",
    "\n",
    "        omega0=omega_k(limit_k[3])\n",
    "        beta0= spectrum3(limit_k[3])*omega0**5/det(limit_k[3])\n",
    "\n",
    "        omega0=omega_k(k)\n",
    "\n",
    "        return beta0*det(k)/omega0**5\n",
    "    \n",
    "#     def spectrum(k):\n",
    "#         omega0=[omega_k(limit_k[i]) for i in range(4)]\n",
    "#         p=[4,5,2.7,5]\n",
    "#         S=[0,0,0,0]\n",
    "#         S[0]=lambda a: JONSWAP(limit_k[0]) * (omega0[0]/omega_k(a))**p[0] * det(a)/det(limit_k[0])\n",
    "#         S[1]=lambda a: S[0](limit_k[1])    * (omega0[1]/omega_k(a))**p[1] * det(a)/det(limit_k[1])\n",
    "#         S[2]=lambda a: S[1](limit_k[2])    * (omega0[2]/omega_k(a))**p[2] * det(a)/det(limit_k[2])\n",
    "#         S[3]=lambda a: S[2](limit_k[3])    * (omega0[3]/omega_k(a))**p[3] * det(a)/det(limit_k[3])\n",
    "#         spectrum=zeros((len(k),4))\n",
    "#         for j in range(len(k)):\n",
    "#             for i in range(4):\n",
    "#                 spectrum[j][i]=S[i](k[j])\n",
    "#         return spectrum\n",
    "    \n",
    "    gamma,alpha,omega_m=Gamma(x),Alpha(x),Omega(x)\n",
    "    \n",
    "    try:\n",
    "        full_spectrum=zeros(len(k))\n",
    "    except:\n",
    "        full_spectrum=[0]\n",
    "        k=[k]\n",
    "    if long_calculate==False:\n",
    "        k=logspace(log10(k[0]),log10(k[-1]),1000)\n",
    "        \n",
    "    omega=omega_m*g/U10\n",
    "    global k_m\n",
    "    k_m=k_max(omega)\n",
    "    limit_1= 1.2   #{ НАЧИНАЕТСЯ  - 1/(W**4) }\n",
    "    limit_2=(\n",
    "             +0.371347584096022408 \n",
    "             + 0.290241610467870486*U10\n",
    "             + 0.290178032985796564/U10\n",
    "            )\n",
    "    limit_3= 270.0 #{ НАЧИНАЕТСЯ 1/W**2.7 }\n",
    "    limit_4= 1020.0 #{ НАЧИНАЕТСЯ 1/W*5 }\n",
    "\n",
    "    limit_k=np.zeros(4)\n",
    "    limit_k[0]=find_decision(limit_1*omega)\n",
    "    limit_k[1]=find_decision(limit_2*omega)\n",
    "    limit_k[2]=limit_3\n",
    "    limit_k[3]=limit_4\n",
    "\n",
    "    for i in range(len(k)):\n",
    "        if k[i] <= limit_k[0]:\n",
    "            full_spectrum[i] =  JONSWAP(k[i])\n",
    "        elif k[i] <= limit_k[1]:\n",
    "            full_spectrum[i] = spectrum1(k[i])\n",
    "        elif k[i] <= limit_k[2]:\n",
    "            full_spectrum[i] = spectrum2(k[i])\n",
    "        elif k[i] <= limit_k[3]:\n",
    "            full_spectrum[i] = spectrum3(k[i])\n",
    "        else:\n",
    "            full_spectrum[i] = spectrum4(k[i])\n",
    "\n",
    "#     S=spectrum(k)\n",
    "#     for i in range(len(k)):\n",
    "#         if k[i] <= limit_k[0]:\n",
    "#             full_spectrum[i] =  JONSWAP(k[i])\n",
    "#         elif k[i] <= limit_k[1]:\n",
    "#             full_spectrum[i] = S[i][0]\n",
    "#         elif k[i] <= limit_k[2]:\n",
    "#             full_spectrum[i] = S[i][1]\n",
    "#         elif k[i] <= limit_k[3]:\n",
    "#             full_spectrum[i] = S[i][2]\n",
    "#         else:\n",
    "#             full_spectrum[i] = S[i][3]\n",
    "\n",
    "    return full_spectrum"
   ]
  },
  {
   "cell_type": "code",
   "execution_count": 5,
   "metadata": {},
   "outputs": [],
   "source": [
    "# U10=10\n",
    "# x=20170\n",
    "# name='SEAWVS_1.dat'\n",
    "# data=pd.read_csv(name,sep='\\s+')\n",
    "# KT=array(data['KT'])\n",
    "# OUR=array(data['OUR'])\n",
    "# loglog(KT,OUR)\n",
    "# k=linspace(KT[0],KT[-1],len(KT))\n",
    "# # k=logspace(log10(k[0]),log10(k[-1]),10000)\n",
    "# start_time = time.time()\n",
    "# S=full_spectrum(k,x=20170)\n",
    "# print(\"Время выполнения --- %s c\" % (time.time() - start_time))\n",
    "# loglog(k,k**3*S)"
   ]
  },
  {
   "cell_type": "code",
   "execution_count": 6,
   "metadata": {},
   "outputs": [
    {
     "ename": "NameError",
     "evalue": "name 'k' is not defined",
     "output_type": "error",
     "traceback": [
      "\u001b[1;31m---------------------------------------------------------------------------\u001b[0m",
      "\u001b[1;31mNameError\u001b[0m                                 Traceback (most recent call last)",
      "\u001b[1;32m<ipython-input-6-cf9025af263d>\u001b[0m in \u001b[0;36m<module>\u001b[1;34m\u001b[0m\n\u001b[0;32m      2\u001b[0m \u001b[1;33m\u001b[0m\u001b[0m\n\u001b[0;32m      3\u001b[0m \u001b[0mU10\u001b[0m\u001b[1;33m=\u001b[0m\u001b[1;36m5\u001b[0m\u001b[1;33m\u001b[0m\u001b[1;33m\u001b[0m\u001b[0m\n\u001b[1;32m----> 4\u001b[1;33m \u001b[0mk\u001b[0m\u001b[1;33m=\u001b[0m\u001b[0mlogspace\u001b[0m\u001b[1;33m(\u001b[0m\u001b[0mlog10\u001b[0m\u001b[1;33m(\u001b[0m\u001b[0mk\u001b[0m\u001b[1;33m[\u001b[0m\u001b[1;36m0\u001b[0m\u001b[1;33m]\u001b[0m\u001b[1;33m)\u001b[0m\u001b[1;33m,\u001b[0m\u001b[0mlog10\u001b[0m\u001b[1;33m(\u001b[0m\u001b[0mk\u001b[0m\u001b[1;33m[\u001b[0m\u001b[1;33m-\u001b[0m\u001b[1;36m1\u001b[0m\u001b[1;33m]\u001b[0m\u001b[1;33m)\u001b[0m\u001b[1;33m,\u001b[0m\u001b[1;36m1000\u001b[0m\u001b[1;33m)\u001b[0m\u001b[1;33m\u001b[0m\u001b[1;33m\u001b[0m\u001b[0m\n\u001b[0m\u001b[0;32m      5\u001b[0m \u001b[0mC\u001b[0m\u001b[1;33m=\u001b[0m\u001b[0mfull_spectrum\u001b[0m\u001b[1;33m(\u001b[0m\u001b[0mk\u001b[0m\u001b[1;33m,\u001b[0m\u001b[0mx\u001b[0m\u001b[1;33m)\u001b[0m\u001b[1;33m\u001b[0m\u001b[1;33m\u001b[0m\u001b[0m\n\u001b[0;32m      6\u001b[0m \u001b[0mloglog\u001b[0m\u001b[1;33m(\u001b[0m\u001b[0mk\u001b[0m\u001b[1;33m,\u001b[0m\u001b[0mC\u001b[0m\u001b[1;33m,\u001b[0m\u001b[0mlabel\u001b[0m\u001b[1;33m=\u001b[0m\u001b[1;34m'$U=5$'\u001b[0m\u001b[1;33m)\u001b[0m\u001b[1;33m\u001b[0m\u001b[1;33m\u001b[0m\u001b[0m\n",
      "\u001b[1;31mNameError\u001b[0m: name 'k' is not defined"
     ]
    }
   ],
   "source": [
    "x=15000\n",
    "\n",
    "U10=5\n",
    "k=logspace(log10(k[0]),log10(k[-1]),1000)\n",
    "C=full_spectrum(k,x)\n",
    "loglog(k,C,label='$U=5$')\n",
    "\n",
    "U10=10\n",
    "k=logspace(log10(k[0]),log10(k[-1]),1000)\n",
    "C=full_spectrum(k,x)\n",
    "loglog(k,C,label='$U=10$')\n",
    "\n",
    "U10=15\n",
    "k=logspace(log10(k[0]),log10(k[-1]),1000)\n",
    "C=full_spectrum(k,x)\n",
    "loglog(k,C,label='$U=15$')\n",
    "\n",
    "U10=20\n",
    "k=logspace(log10(k[0]),log10(k[-1]),1000)\n",
    "C=full_spectrum(k,x)\n",
    "loglog(k,C,label='$U=20$')\n",
    "legend()\n",
    "\n",
    "xlabel('$k$')\n",
    "ylabel('$S_{k}$')\n",
    "ylim((10**(-15),1000))\n",
    "show()"
   ]
  },
  {
   "cell_type": "code",
   "execution_count": null,
   "metadata": {},
   "outputs": [],
   "source": [
    "xx=arange(1430,20000,3000)\n",
    "U10=10\n",
    "for n in xx:\n",
    "    x=n\n",
    "    k=logspace(log10(k[0]),log10(k[-1]),1000)\n",
    "    C=full_spectrum(k,n)\n",
    "    loglog(k,C,label='$\\\\~{x}=$'+'{0}'.format(x))\n",
    "\n",
    "ylim([10**-30,10])\n",
    "xlabel('$k$')\n",
    "ylabel('$S_{k}$')\n",
    "legend()"
   ]
  },
  {
   "cell_type": "markdown",
   "metadata": {},
   "source": [
    "## Угловое распределение\n",
    "Угловое распределение $\\Phi_{\\omega}$ описывается следующей формулой:\n",
    "$$\\Phi_{\\omega}=A\\cdot\\frac{2}{\\exp(2B\\phi)+\\exp(-2B\\phi)}=\\frac{A}{\\cosh(2B\\phi)},\\, -\\pi\\leq\\phi\\leq\\pi$$\n",
    "Где $B=10^b$, а b описывается следующей формулой:\n",
    "$$b=-0.28+0.65\\exp\\left\\{-0.75\\log(\\frac{k}{k_m})\\right\\}+0.01\\exp\\left\\{0.2+0.7\\lg(\\frac{k}{k_m})\\right\\}$$"
   ]
  },
  {
   "cell_type": "code",
   "execution_count": null,
   "metadata": {},
   "outputs": [],
   "source": [
    "def B(k):\n",
    "    def b(k):\n",
    "        b=(\n",
    "            -0.28+0.65*exp(-0.75*log(k/k_m))\n",
    "            +0.01*exp(-0.2+0.7*log10(k/k_m))  \n",
    "          )          \n",
    "        return b\n",
    "    B=10**b(k)\n",
    "    return B\n",
    "\n",
    "def Normalization(B):\n",
    "    Normalization=B/arctan(sinh(2*pi*B))\n",
    "    return Normalization\n",
    "\n",
    "def Phi(k,phi):\n",
    "    try:\n",
    "        Phi=zeros((len(k),len(phi)))\n",
    "        for i in range(len(k)):\n",
    "            B0=B(k[i])\n",
    "            A0=Normalization(B0)\n",
    "            Phi[i]=A0/cosh(2*B0*phi)\n",
    "    except:\n",
    "        B0=B(k)\n",
    "        A0=Normalization(B0)\n",
    "        Phi=A0/cosh(2*B0*phi)\n",
    "    return Phi\n",
    "\n",
    "x=linspace(-pi,pi,1000)\n",
    "figure(figsize=(10,10))\n",
    "for i in linspace(KT[0],KT[-1],100):\n",
    "    y=Phi(i,x)\n",
    "    polar(x,y)\n",
    "\n",
    "integral=trapz(y,x)\n",
    "\n",
    "display(Math(\n",
    " r'Интеграл\\,функции\\,распределения:\\\\'\n",
    " +'\\displaystyle\\int\\limits_{-\\pi}^{\\pi}'\n",
    " +'\\Phi_{\\omega}(\\omega,\\phi)d\\phi'\n",
    " +'={0} \\simeq  {1}'.format(integral,round(integral,3)) \n",
    ")\n",
    "       )"
   ]
  },
  {
   "cell_type": "markdown",
   "metadata": {},
   "source": [
    "Для наглядности ниже будет анимация:"
   ]
  },
  {
   "cell_type": "code",
   "execution_count": null,
   "metadata": {
    "scrolled": false
   },
   "outputs": [],
   "source": [
    "%%capture\n",
    "def init():\n",
    "    line.set_data([],[])\n",
    "    return line,\n",
    "def animate(i):\n",
    "    phi=linspace(-pi,pi,1000)\n",
    "    k=logspace(log10(KT[0]),log10(KT[-1]),1000)\n",
    "    y=Phi(k[i],phi)\n",
    "    line.set_data(phi,y)\n",
    "#     \n",
    "    ax.set_title(str(round(k[i],3)))\n",
    "    return line,\n",
    "fig = figure(figsize=(10,10))\n",
    "ax = axes(projection='polar',)\n",
    "ax.set_rlim(0,10)\n",
    "line, = ax.plot([], [], lw=2)\n",
    "anim = animation.FuncAnimation(fig, animate, init_func=init,\n",
    "                               frames=100, interval=50, blit=True)"
   ]
  },
  {
   "cell_type": "code",
   "execution_count": null,
   "metadata": {},
   "outputs": [],
   "source": [
    "# HTML(anim.to_html5_video())"
   ]
  },
  {
   "cell_type": "markdown",
   "metadata": {},
   "source": [
    "# Для проверки"
   ]
  },
  {
   "cell_type": "markdown",
   "metadata": {},
   "source": [
    "Все равно придётся считать"
   ]
  },
  {
   "cell_type": "markdown",
   "metadata": {},
   "source": [
    " \n",
    " При увеличении числа гармоник происходит\n",
    "улучшение качества моделируемой поверхности, но возрастает время\n",
    "счета. Поэтому, как и в случае с угловым распределением, здесь также\n",
    "было выбрано компромиссное решение. Критерием была выбрана \n",
    "    близость корреляционных функций высот $ K_{\\sum} (\\rho)$ и наклонов вычисленных по исходному спектру $S_{\\sum}(\\omega)$ и по реализации поверхности $\\Sigma (\\vec r, t)$:\n",
    " \n",
    " $$K_{\\sum}(\\rho)=\\int\\limits_{(k)}S_{\\sum}(k)\\cos(k\\rho)dk$$\n",
    " \n",
    " $$K_{\\sum}^M(\\rho)=\\sum\\limits_{n=1}^N \\frac{A^2_n}{2}\\cos(k\\rho)$$\n",
    "  \n",
    " $$K_{\\sum\\theta}(\\rho)=\\int\\limits_{(k)}k^2S_{\\sum}(k)\\cos(k\\rho)dk$$\n",
    "   \n",
    "  $$K_{\\sum\\theta}^M(\\rho)=\\sum\\limits_{n=1}^N \\frac{A^2_n k^2}{2}\\cos(k\\rho)$$"
   ]
  },
  {
   "cell_type": "code",
   "execution_count": null,
   "metadata": {},
   "outputs": [],
   "source": [
    "from scipy import interpolate\n",
    "k=arange(KT[0]/10,KT[-1]+1,0.01)\n",
    "S=full_spectrum(k)\n",
    "full_spectrum=interpolate.interp1d(k,S)\n",
    "loglog(k,full_spectrum(k),label='Интерполяция')\n",
    "loglog(k,S,label='Функция')\n",
    "print(norm(S-full_spectrum(k)))\n",
    "print(k[-1])\n",
    "legend()\n",
    "k_edge=111.8-17.937*U10+3.095*U10**2+1.2656*U10**2*log(U10)+0.3141*U10*(2.5)\n"
   ]
  },
  {
   "cell_type": "code",
   "execution_count": null,
   "metadata": {},
   "outputs": [],
   "source": [
    "def angle(k,phi):\n",
    "    angle=sqrt( 2*pi/100 * Phi(k,phi) )\n",
    "    return angle\n",
    "\n",
    "def amplitude(k,N):\n",
    "    # k-- выбранный диапазон волновых чисел\n",
    "    # N-- количество моделируемых гармоник\n",
    "    N+=1\n",
    "    k=logspace(log10(KT[0]),log10(KT[-1]),N)\n",
    "    S=full_spectrum(k)\n",
    "    omega=omega_k(k)\n",
    "    dk=zeros(N)\n",
    "    dS=zeros(N)\n",
    "#     dk[0]=(k[1]-k[0])\n",
    "    for i in range(1,N):\n",
    "        dk[i]=(k[i]-k[i-1])\n",
    "        dS[i]=S[i]\n",
    "    amplitude=sqrt(2*dk * dS)\n",
    "    return amplitude[1:]\n",
    "N=10000\n",
    "k=logspace(log10(KT[0]),log10(KT[-1]),N)\n",
    "A=amplitude(k,N)\n",
    "plot(k[0:100],A[0:100])"
   ]
  },
  {
   "cell_type": "markdown",
   "metadata": {},
   "source": [
    "Встала задача нахождения интеграла аналитически. Для этого изначально ещё нужно выбрать оптимальное распеределение волновых чисел."
   ]
  },
  {
   "cell_type": "code",
   "execution_count": null,
   "metadata": {},
   "outputs": [],
   "source": [
    "# print avada kedavra\n",
    "from scipy.integrate import simps\n",
    "from numpy.linalg import norm\n",
    "U10=10\n",
    "\n",
    "def correlation_height(k,rho):\n",
    "    S=full_spectrum(k)\n",
    "    integral=zeros(len(rho))\n",
    "    for i in range(len(rho)):\n",
    "        integral[i]=trapz(S*cos(k*rho[i]),k)\n",
    "    return integral\n",
    "\n",
    "def correlation_height_sum(k,rho,N=1000):\n",
    "    f=0\n",
    "    A=amplitude(k,N)\n",
    "    k=logspace(log10(KT[0]),log10(KT[-1]),N)\n",
    "    f=zeros(len(rho))\n",
    "    for j in range(len(rho)):\n",
    "            f[j]=sum( A**2/2*cos(k*rho[j]) )\n",
    "    return f\n",
    "\n",
    "    \n",
    "k=logspace(log10(KT[0]),log10(KT[-1]),10000)\n",
    "rho=linspace(0,400,400)\n",
    "y=zeros(len(rho))\n",
    "N=1000\n",
    "y=correlation_height_sum(k,rho, N=10000)\n",
    "y1=correlation_height(k,rho)\n",
    "print(y[0],y1[0])\n",
    "plot(rho,y1,label='Интеграл')\n",
    "plot(rho,y,label='Сумма')\n",
    "legend()\n",
    "\n"
   ]
  },
  {
   "cell_type": "code",
   "execution_count": null,
   "metadata": {},
   "outputs": [],
   "source": [
    "# print avada kedavra\n",
    "def correlation_angles(k,rho):\n",
    "    integral=zeros(len(rho))\n",
    "    S=k**2*full_spectrum(k)\n",
    "    y=lambda k,rho: S*cos(k*rho)\n",
    "    for i in range(len(rho)):\n",
    "        integral[i]=trapz(y(k,rho[i]),x=k)\n",
    "    return integral\n",
    "    \n",
    "def correlation_angles_sum(k,rho,N=10000):\n",
    "    f=0\n",
    "    A=amplitude(k,N)\n",
    "    k=logspace(log10(KT[0]),log10(KT[-1]),N)\n",
    "    f=zeros(len(rho))\n",
    "    for j in range(len(rho)):\n",
    "            f[j]=sum( k**2*A**2/2*cos(k*rho[j]) )\n",
    "    return f\n",
    "print(k_edge)\n",
    "k=linspace(KT[0],k_edge,100000)\n",
    "rho=linspace(0,400,400)\n",
    "y=zeros(len(rho))\n",
    "y=correlation_angles_sum(k,rho,1000)\n",
    "y1=correlation_angles(k,rho)\n",
    "plot(rho,y,label='Сумма')\n",
    "plot(rho,y1,label='Интеграл')\n",
    "legend()\n",
    "print(y[0],y1[0])\n"
   ]
  },
  {
   "cell_type": "code",
   "execution_count": null,
   "metadata": {},
   "outputs": [],
   "source": [
    "print avada kedavra"
   ]
  },
  {
   "cell_type": "code",
   "execution_count": null,
   "metadata": {},
   "outputs": [],
   "source": [
    "# integral=zeros(len(rho))\n",
    "y=lambda k,rho: k**2*f(k)*cos(k*rho)\n",
    "integral=[quad(y,KT[0],KT[-1],args=i) for i in range(300)]\n",
    "plot(integral)"
   ]
  },
  {
   "cell_type": "code",
   "execution_count": null,
   "metadata": {},
   "outputs": [],
   "source": [
    "def find_garmonics(k,rho):\n",
    "#     N=100\n",
    "#     k=logspace(log10(KT[0]),log10(KT[-1]),10000)\n",
    "#     S=correlation_height_sum(k,rho,N)\n",
    "#     I=correlation_height(k,rho)\n",
    "#     while abs(norm(S-I))>0.01:\n",
    "#         N*=2\n",
    "#         S=correlation_height_sum(k,rho,N)\n",
    "#     print('Количество гармоник для высот N=',N)\n",
    "    \n",
    "#     k=logspace(log10(KT[0]),log10(KT[-1]),10000)\n",
    "#     S=correlation_angles_sum(k,rho,N)\n",
    "#     I=correlation_angles(k,rho)\n",
    "#     while abs(norm(S-I))>0.01:\n",
    "#         N*=2\n",
    "#         S=correlation_angles_sum(k,rho,N)\n",
    "#     print('Количество гармоник для наклонов N=',N)\n",
    "    return 6400"
   ]
  },
  {
   "cell_type": "code",
   "execution_count": null,
   "metadata": {},
   "outputs": [],
   "source": [
    "from numpy import random\n",
    "def model(k,phi,N):\n",
    "    U10=10\n",
    "    rho=linspace(0,400,400)\n",
    "    A=amplitude(k,N)\n",
    "    F=angle(k,phi)\n",
    "    psi=array([\n",
    "    [ random.uniform(0,2*pi) for j in range(100)] \n",
    "      for i in range(N)              ]) \n",
    "    \n",
    "    def water(r,vec_k=array([1,0]),t=0):\n",
    "        model=0\n",
    "        for n in range(N):\n",
    "            for m in range(100):\n",
    "                model+=A[n]*cos(\n",
    "                    k[n]*(r[0]*vec_k[0]+r[1]*vec_k[1])+psi[n][m]\n",
    "                )*F[n][m]\n",
    "        return model\n",
    "    \n",
    "    return water\n",
    "\n",
    "N=find_garmonics(k,rho)\n",
    "k=logspace(log10(KT[0]),log10(KT[-1]),N)\n",
    "phi=linspace(-pi,pi,100)\n",
    "\n",
    "sigma=model(k,phi,N)\n",
    "x=linspace(0,400,800)\n",
    "y=linspace(0,400,800)\n",
    "water=sigma([x,y],vec_k=[1,0])\n",
    "start_time = time.time()\n",
    "plot(x,water)\n",
    "print(\"Время выполнения --- %s c\" % (time.time() - start_time))\n",
    "\n",
    "dispersion=std(water)\n",
    "# mn=mean(sigma(x))\n",
    "print('Дисперсия =',dispersion)\n",
    "# print('Среднее=',mn)\n",
    "print(correlation_height(k,[0]))"
   ]
  },
  {
   "cell_type": "code",
   "execution_count": null,
   "metadata": {},
   "outputs": [],
   "source": [
    "# %matplotlib inline\n",
    "x=linspace(0,400,40)\n",
    "y=linspace(0,400,40)\n",
    "rcParams['figure.figsize'] = [7, 6]\n",
    "rcParams['axes.labelsize'] = 20\n",
    "x, y = np.meshgrid(x, y)\n",
    "z=sigma([x,y],vec_k=[1/2,sqrt(3)/2])\n",
    "contourf(x,y,z,100)\n",
    "colorbar()\n",
    "ylabel(r'Y',fontsize=16)\n",
    "xlabel(r'X',fontsize=16)\n",
    "show()"
   ]
  }
 ],
 "metadata": {
  "kernelspec": {
   "display_name": "Python 3",
   "language": "python",
   "name": "python3"
  },
  "language_info": {
   "codemirror_mode": {
    "name": "ipython",
    "version": 3
   },
   "file_extension": ".py",
   "mimetype": "text/x-python",
   "name": "python",
   "nbconvert_exporter": "python",
   "pygments_lexer": "ipython3",
   "version": "3.7.1"
  }
 },
 "nbformat": 4,
 "nbformat_minor": 2
}
