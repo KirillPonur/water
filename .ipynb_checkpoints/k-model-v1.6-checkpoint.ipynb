{
 "cells": [
  {
   "cell_type": "code",
   "execution_count": 1,
   "metadata": {
    "slideshow": {
     "slide_type": "-"
    }
   },
   "outputs": [
    {
     "data": {
      "application/javascript": [
       "MathJax.Hub.Config({\n",
       "  TeX: { \n",
       "    equationNumbers: { autoNumber: \"AMS\" } \n",
       "    }\n",
       "});\n"
      ],
      "text/plain": [
       "<IPython.core.display.Javascript object>"
      ]
     },
     "metadata": {},
     "output_type": "display_data"
    }
   ],
   "source": [
    "%%js\n",
    "MathJax.Hub.Config({\n",
    "  TeX: { \n",
    "    equationNumbers: { autoNumber: \"AMS\" } \n",
    "    }\n",
    "});"
   ]
  },
  {
   "cell_type": "markdown",
   "metadata": {},
   "source": [
    "# Моделирование"
   ]
  },
  {
   "cell_type": "code",
   "execution_count": 2,
   "metadata": {},
   "outputs": [],
   "source": [
    "from pylab import *\n",
    "rcParams['figure.figsize'] = [7, 6]\n",
    "rcParams['axes.labelsize'] = 20\n",
    "from IPython.display import display, Math,Latex,HTML\n",
    "import pandas as pd\n",
    "import time\n",
    "from matplotlib import animation\n",
    "%load_ext skip"
   ]
  },
  {
   "cell_type": "markdown",
   "metadata": {},
   "source": [
    "$\\renewcommand{\\phi}{\\varphi}$\n",
    "Для моделирования случайной поверхности $\\Sigma(\\vec{r},t)$ используется ее представление в виде суперпозиции плоских волн (гармоник) с различными частотами $\\omega_n$ и случайными фазами $\\Psi_{nm}$, бегущих под разными азимутальными углами $\\phi_m$:\n",
    "$$\\begin{equation*}\n",
    "    \\Sigma(\\vec{r},t)=\\sum\\limits_{n=1}^N\\sum_{m=1}^M A_n\n",
    "    cos(\\omega_nt+\\vec{k_n}\\vec{r}+\\Psi_{nm})\\cdot\\Phi_{nm}\n",
    "    (\\omega_n,\\phi_m)\n",
    "    \\label{eq:1}\n",
    "\\end{equation*}$$\n",
    "Далее будут приведены основные соотношения, необходимые для этого уравнения"
   ]
  },
  {
   "cell_type": "code",
   "execution_count": 3,
   "metadata": {},
   "outputs": [],
   "source": [
    "def find_decision(omega):\n",
    "    P = 9.8*1000.0/0.074;\n",
    "    Q = -1000.0*omega**2/0.074;\n",
    "    x1= -Q/2.0 + sqrt( (Q/2)**2 + (P/3)**3 )\n",
    "    x2= -Q/2.0 - sqrt( (Q/2)**2 + (P/3)**3 )\n",
    "    k=x1**(1/3)-(-x2)**(1/3)\n",
    "    return k\n",
    "\n",
    "def det(k): \n",
    "#    Функция возвращает детерминант при переходе от частоты к \n",
    "#волновым числам по полному дисперсионному\n",
    "    det=(9.8+3*k**2*0.074/1000)/(2*sqrt(9.8*k+k**3*0.074/1000) )\n",
    "    return det"
   ]
  },
  {
   "cell_type": "code",
   "execution_count": 4,
   "metadata": {},
   "outputs": [],
   "source": [
    "global g\n",
    "g=9.81\n",
    "def k_max(omega_max):\n",
    "    k_max=omega_max**2/g\n",
    "    return k_max\n",
    "\n",
    "def omega_k(k): # Пересчет волнового числа в частоту по полному дисперсионному\n",
    "    omega_k=(g*k+0.074*k**3/1000)**(1/2) #Сложное дисперсионное\n",
    "    return omega_k  \n",
    "\n",
    "def full_spectrum(k,x=20170, long_calculate=True):\n",
    "    def JONSWAP(k):\n",
    "        if k<=k_m:\n",
    "            sigma=0.07\n",
    "        else:\n",
    "            sigma=0.09\n",
    "        Sw=(\n",
    "            Alpha(x)/2*k**(-3)*exp(-1.25*(k_m/k)**2 )*\n",
    "            Gamma(x)**(exp(- ( sqrt(k/k_m)-1)**2 / (2*sigma**2) ))\n",
    "           )\n",
    "        return Sw\n",
    "\n",
    "    def Gamma(x):\n",
    "        if x>=20170:\n",
    "            return 1\n",
    "        gamma=(\n",
    "               +5.253660929\n",
    "               +0.000107622*x\n",
    "               -0.03778776*sqrt(x)\n",
    "               -162.9834653/sqrt(x)\n",
    "               +253251.456472*x**(-3/2)\n",
    "              )\n",
    "        return gamma\n",
    "\n",
    "    def Alpha(x):\n",
    "        if x>=20170:\n",
    "            return 0.0081\n",
    "        alpha=array([],dtype='float64')\n",
    "        alpha=[( \n",
    "               +0.0311937\n",
    "               -0.00232774*log(x)\n",
    "               -8367.8678786/x**2\n",
    "               +4.5114599e+300*exp(-x)*1e+300*1e+17\n",
    "    #            +4.5114599e+17*exp(-x)\n",
    "              )]\n",
    "        return alpha[0]\n",
    "\n",
    "    def Omega(x): #Вычисление безразмерной частоты по безразмерному разгону\n",
    "        if x>=20170:\n",
    "            return 0.835\n",
    "        omega_tilde=(0.61826357843576103 \n",
    "                     + 3.52883010586243843e-06*x\n",
    "                     - 0.00197508032233982112*sqrt(x)\n",
    "                     + 62.5540113059129759/sqrt(x)\n",
    "                     - 290.214120684236224/x\n",
    "        )\n",
    "        return omega_tilde\n",
    "\n",
    "    def spectrum1(k):\n",
    "\n",
    "\n",
    "        omega0=omega_k(limit_k[0])\n",
    "        beta0= JONSWAP(limit_k[0])*omega0**4/det(limit_k[0])\n",
    "\n",
    "        omega0=omega_k(k)\n",
    "\n",
    "        return beta0/omega0**4*det(k)\n",
    "\n",
    "    def spectrum2(k):\n",
    "\n",
    "\n",
    "        omega0=omega_k(limit_k[1])\n",
    "        beta0= spectrum1(limit_k[1])*omega0**5/det(limit_k[1])\n",
    "\n",
    "        omega0=omega_k(k)\n",
    "\n",
    "        return beta0/omega0**5*det(k)\n",
    "\n",
    "    def spectrum3(k):\n",
    "\n",
    "\n",
    "        omega0=omega_k(limit_k[2])\n",
    "        beta0= spectrum2(limit_k[2])*omega0**2.7/det(limit_k[2])\n",
    "\n",
    "        omega0=omega_k(k)\n",
    "\n",
    "        return beta0/omega0**2.7*det(k)\n",
    "\n",
    "    def spectrum4(k):\n",
    "\n",
    "\n",
    "        omega0=omega_k(limit_k[3])\n",
    "        beta0= spectrum3(limit_k[3])*omega0**5/det(limit_k[3])\n",
    "\n",
    "        omega0=omega_k(k)\n",
    "\n",
    "        return beta0*det(k)/omega0**5\n",
    "    \n",
    "#     def spectrum(k):\n",
    "#         omega0=[omega_k(limit_k[i]) for i in range(4)]\n",
    "#         p=[4,5,2.7,5]\n",
    "#         S=[0,0,0,0]\n",
    "#         S[0]=lambda a: JONSWAP(limit_k[0]) * (omega0[0]/omega_k(a))**p[0] * det(a)/det(limit_k[0])\n",
    "#         S[1]=lambda a: S[0](limit_k[1])    * (omega0[1]/omega_k(a))**p[1] * det(a)/det(limit_k[1])\n",
    "#         S[2]=lambda a: S[1](limit_k[2])    * (omega0[2]/omega_k(a))**p[2] * det(a)/det(limit_k[2])\n",
    "#         S[3]=lambda a: S[2](limit_k[3])    * (omega0[3]/omega_k(a))**p[3] * det(a)/det(limit_k[3])\n",
    "#         spectrum=zeros((len(k),4))\n",
    "#         for j in range(len(k)):\n",
    "#             for i in range(4):\n",
    "#                 spectrum[j][i]=S[i](k[j])\n",
    "#         return spectrum\n",
    "    \n",
    "    gamma,alpha,omega_m=Gamma(x),Alpha(x),Omega(x)\n",
    "    \n",
    "    try:\n",
    "        full_spectrum=zeros(len(k))\n",
    "    except:\n",
    "        full_spectrum=[0]\n",
    "        k=[k]\n",
    "    if long_calculate==False:\n",
    "        k=logspace(log10(k[0]),log10(k[-1]),1000)\n",
    "        \n",
    "    omega=omega_m*g/U10\n",
    "    global k_m\n",
    "    k_m=k_max(omega)\n",
    "    limit_1= 1.2   #{ НАЧИНАЕТСЯ  - 1/(W**4) }\n",
    "    limit_2=(\n",
    "             +0.371347584096022408 \n",
    "             + 0.290241610467870486*U10\n",
    "             + 0.290178032985796564/U10\n",
    "            )\n",
    "    limit_3= 270.0 #{ НАЧИНАЕТСЯ 1/W**2.7 }\n",
    "    limit_4= 1020.0 #{ НАЧИНАЕТСЯ 1/W*5 }\n",
    "\n",
    "    limit_k=np.zeros(4)\n",
    "    limit_k[0]=find_decision(limit_1*omega)\n",
    "    limit_k[1]=find_decision(limit_2*omega)\n",
    "    limit_k[2]=limit_3\n",
    "    limit_k[3]=limit_4\n",
    "\n",
    "    for i in range(len(k)):\n",
    "        if k[i] <= limit_k[0]:\n",
    "            full_spectrum[i] =  JONSWAP(k[i])\n",
    "        elif k[i] <= limit_k[1]:\n",
    "            full_spectrum[i] = spectrum1(k[i])\n",
    "        elif k[i] <= limit_k[2]:\n",
    "            full_spectrum[i] = spectrum2(k[i])\n",
    "        elif k[i] <= limit_k[3]:\n",
    "            full_spectrum[i] = spectrum3(k[i])\n",
    "        else:\n",
    "            full_spectrum[i] = spectrum4(k[i])\n",
    "\n",
    "#     S=spectrum(k)\n",
    "#     for i in range(len(k)):\n",
    "#         if k[i] <= limit_k[0]:\n",
    "#             full_spectrum[i] =  JONSWAP(k[i])\n",
    "#         elif k[i] <= limit_k[1]:\n",
    "#             full_spectrum[i] = S[i][0]\n",
    "#         elif k[i] <= limit_k[2]:\n",
    "#             full_spectrum[i] = S[i][1]\n",
    "#         elif k[i] <= limit_k[3]:\n",
    "#             full_spectrum[i] = S[i][2]\n",
    "#         else:\n",
    "#             full_spectrum[i] = S[i][3]\n",
    "\n",
    "    return full_spectrum"
   ]
  },
  {
   "cell_type": "code",
   "execution_count": 5,
   "metadata": {},
   "outputs": [
    {
     "name": "stdout",
     "output_type": "stream",
     "text": [
      "Время выполнения --- 17.275829076766968 c\n"
     ]
    },
    {
     "data": {
      "text/plain": [
       "[<matplotlib.lines.Line2D at 0x19ce3f1eb00>]"
      ]
     },
     "execution_count": 5,
     "metadata": {},
     "output_type": "execute_result"
    },
    {
     "data": {
      "image/png": "[encoded data removed]",
      "text/plain": [
       "<Figure size 432x288 with 1 Axes>"
      ]
     },
     "metadata": {
      "needs_background": "light"
     },
     "output_type": "display_data"
    }
   ],
   "source": [
    "U10=10\n",
    "x=20170\n",
    "name='SEAWVS_1.dat'\n",
    "data=pd.read_csv(name,sep='\\s+')\n",
    "KT=array(data['KT'])\n",
    "OUR=array(data['OUR'])\n",
    "loglog(KT,OUR)\n",
    "k=linspace(KT[0],KT[-1],len(KT))\n",
    "# k=logspace(log10(k[0]),log10(k[-1]),10000)\n",
    "start_time = time.time()\n",
    "S=full_spectrum(k,x=20170)\n",
    "print(\"Время выполнения --- %s c\" % (time.time() - start_time))\n",
    "loglog(k,k**3*S)"
   ]
  },
  {
   "cell_type": "markdown",
   "metadata": {},
   "source": [
    "## Угловое распределение\n",
    "Угловое распределение $\\Phi_{\\omega}$ описывается следующей формулой:\n",
    "$$\\Phi_{\\omega}=A\\cdot\\frac{2}{\\exp(2B\\phi)+\\exp(-2B\\phi)}=\\frac{A}{\\cosh(2B\\phi)},\\, -\\pi\\leq\\phi\\leq\\pi$$\n",
    "Где $B=10^b$, а b описывается следующей формулой:\n",
    "$$b=-0.28+0.65\\exp\\left\\{-0.75\\log(\\frac{k}{k_m})\\right\\}+0.01\\exp\\left\\{0.2+0.7\\lg(\\frac{k}{k_m})\\right\\}$$"
   ]
  },
  {
   "cell_type": "code",
   "execution_count": 6,
   "metadata": {},
   "outputs": [],
   "source": [
    "def B(k):\n",
    "    def b(k):\n",
    "        b=(\n",
    "            -0.28+0.65*exp(-0.75*log(k/k_m))\n",
    "            +0.01*exp(-0.2+0.7*log10(k/k_m))  \n",
    "          )          \n",
    "        return b\n",
    "    B=10**b(k)\n",
    "    return B\n",
    "\n",
    "def Normalization(B):\n",
    "    Normalization=B/arctan(sinh(2*pi*B))\n",
    "    return Normalization\n",
    "\n",
    "def Phi(k,phi):\n",
    "    try:\n",
    "        Phi=zeros((len(k),len(phi)))\n",
    "        for i in range(len(k)):\n",
    "            B0=B(k[i])\n",
    "            A0=Normalization(B0)\n",
    "            Phi[i]=A0/cosh(2*B0*phi)\n",
    "    except:\n",
    "        B0=B(k)\n",
    "        A0=Normalization(B0)\n",
    "        Phi=A0/cosh(2*B0*phi)\n",
    "    return Phi"
   ]
  },
  {
   "cell_type": "markdown",
   "metadata": {},
   "source": [
    "# Для проверки"
   ]
  },
  {
   "cell_type": "markdown",
   "metadata": {},
   "source": [
    "Все равно придётся считать"
   ]
  },
  {
   "cell_type": "markdown",
   "metadata": {},
   "source": [
    " \n",
    " При увеличении числа гармоник происходит\n",
    "улучшение качества моделируемой поверхности, но возрастает время\n",
    "счета. Поэтому, как и в случае с угловым распределением, здесь также\n",
    "было выбрано компромиссное решение. Критерием была выбрана \n",
    "    близость корреляционных функций высот $ K_{\\sum} (\\rho)$ и наклонов вычисленных по исходному спектру $S_{\\sum}(\\omega)$ и по реализации поверхности $\\Sigma (\\vec r, t)$:\n",
    " \n",
    " $$K_{\\sum}(\\rho)=\\int\\limits_{(k)}S_{\\sum}(k)\\cos(k\\rho)dk$$\n",
    " \n",
    " $$K_{\\sum}^M(\\rho)=\\sum\\limits_{n=1}^N \\frac{A^2_n}{2}\\cos(k\\rho)$$\n",
    "  \n",
    " $$K_{\\sum\\theta}(\\rho)=\\int\\limits_{(k)}k^2S_{\\sum}(k)\\cos(k\\rho)dk$$\n",
    "   \n",
    "  $$K_{\\sum\\theta}^M(\\rho)=\\sum\\limits_{n=1}^N \\frac{A^2_n k^2}{2}\\cos(k\\rho)$$"
   ]
  },
  {
   "cell_type": "code",
   "execution_count": 7,
   "metadata": {},
   "outputs": [
    {
     "name": "stdout",
     "output_type": "stream",
     "text": [
      "0.0\n",
      "2000.980000000002\n"
     ]
    },
    {
     "data": {
      "image/png": "[encoded data removed]",
      "text/plain": [
       "<Figure size 432x288 with 1 Axes>"
      ]
     },
     "metadata": {
      "needs_background": "light"
     },
     "output_type": "display_data"
    }
   ],
   "source": [
    "from scipy import interpolate\n",
    "k=arange(KT[0]*10**(-10),KT[-1]+1,0.01)\n",
    "S=full_spectrum(k)\n",
    "full_spectrum=interpolate.interp1d(k,S)\n",
    "loglog(k,k**3*full_spectrum(k),label='Интерполяция')\n",
    "loglog(k,k**3*S,label='Функция')\n",
    "print(norm(S-full_spectrum(k)))\n",
    "print(k[-1])\n",
    "legend()\n",
    "k_edge=111.8-17.937*U10+3.095*U10**2+1.2656*U10**2*log(U10)+0.3141*U10*(2.5)\n",
    "\n"
   ]
  },
  {
   "cell_type": "code",
   "execution_count": null,
   "metadata": {},
   "outputs": [],
   "source": []
  },
  {
   "cell_type": "code",
   "execution_count": 8,
   "metadata": {},
   "outputs": [],
   "source": [
    "def angle(k,phi):\n",
    "    angle=sqrt( 2*pi/100 * Phi(k,phi) )\n",
    "    return angle\n",
    "\n",
    "def amplitude(k,N):\n",
    "    # k-- выбранный диапазон волновых чисел\n",
    "    # N-- количество моделируемых гармоник\n",
    "    N+=1\n",
    "    k=logspace(log10(KT[0]),log10(KT[-1]),N)\n",
    "    S=full_spectrum(k)\n",
    "    dk=zeros(N)\n",
    "    dS=zeros(N)\n",
    "#     dk[0]=(k[1]-k[0])\n",
    "    for i in range(1,N):\n",
    "        dk[i]=(k[i]-k[i-1])\n",
    "        dS[i]=S[i]\n",
    "    amplitude=sqrt(2*dk * dS)\n",
    "    return amplitude[1:]\n",
    "# def amplitude_new(k,N):\n",
    "#     # k-- выбранный диапазон волновых чисел\n",
    "#     # N-- количество моделируемых гармоник\n",
    "#     hk=KT[-1]/N\n",
    "#     print(hk)\n",
    "#     dk=arange(hk,(N)*hk,hk)\n",
    "# #     print(dk)\n",
    "#     loglog(dk,dk**3*full_spectrum(dk))\n",
    "#     print(len(dk))\n",
    "#     b=zeros(N)\n",
    "#     for i in range(1,N):\n",
    "#         k=arange((i)*hk,(i+1)*hk,hk/10000)\n",
    "# #         print(k[-1])\n",
    "#         b[i]=trapz(full_spectrum(k)*k**3,k)\n",
    "# #     print(b[1:])\n",
    "#     return b[1:],dk\n",
    "# # N=10000\n",
    "# # k=logspace(log10(KT[0]),log10(KT[-1]),N)\n",
    "# # A=amplitude(k,N)\n",
    "# # loglog(k,A)\n",
    "# # # plot(amplitude(k,N))\n",
    "# N=200\n",
    "# k=logspace(log10(KT[0]),log10(KT[-1]),N)\n",
    "# A,k=amplitude_new(k,N)\n",
    "# # loglog(k,A)\n",
    "# # from scipy import signal\n",
    "# # imp = signal.unit_impulse(1000, 'mid')\n"
   ]
  },
  {
   "cell_type": "code",
   "execution_count": 9,
   "metadata": {},
   "outputs": [
    {
     "name": "stdout",
     "output_type": "stream",
     "text": [
      "0.33993302858546487 0.34012882374265346\n"
     ]
    },
    {
     "data": {
      "text/plain": [
       "<matplotlib.legend.Legend at 0x19cf18bbe80>"
      ]
     },
     "execution_count": 9,
     "metadata": {},
     "output_type": "execute_result"
    },
    {
     "data": {
      "image/png": "[encoded data removed]",
      "text/plain": [
       "<Figure size 432x288 with 1 Axes>"
      ]
     },
     "metadata": {
      "needs_background": "light"
     },
     "output_type": "display_data"
    }
   ],
   "source": [
    "# print avada kedavra\n",
    "from scipy.integrate import simps\n",
    "from numpy.linalg import norm\n",
    "U10=10\n",
    "\n",
    "def correlation_height(k,rho):\n",
    "    S=full_spectrum(k)\n",
    "    integral=zeros(len(rho))\n",
    "    for i in range(len(rho)):\n",
    "        integral[i]=trapz(S*cos(k*rho[i]),k)\n",
    "    return integral\n",
    "\n",
    "def correlation_height_sum(k,rho,N=1000):\n",
    "    f=0\n",
    "    A=amplitude(k,N)\n",
    "    k=logspace(log10(KT[0]),log10(KT[-1]),N)\n",
    "    f=zeros(len(rho))\n",
    "    for j in range(len(rho)):\n",
    "            f[j]=sum( A**2/2*cos(k*rho[j]) )\n",
    "    return f\n",
    "\n",
    "    \n",
    "k=logspace(log10(KT[0]),log10(KT[-1]),10000)\n",
    "rho=linspace(0,400,400)\n",
    "y=zeros(len(rho))\n",
    "N=1000\n",
    "y=correlation_height_sum(k,rho, N=10000)\n",
    "y1=correlation_height(k,rho)\n",
    "print(y[0],y1[0])\n",
    "plot(rho,y1,label='Интеграл')\n",
    "plot(rho,y,label='Сумма')\n",
    "legend()\n",
    "\n"
   ]
  },
  {
   "cell_type": "code",
   "execution_count": null,
   "metadata": {
    "scrolled": false
   },
   "outputs": [
    {
     "name": "stdout",
     "output_type": "stream",
     "text": [
      "Дисперсия наклонов sigma= 0.34012873448007236\n",
      "sigma/N= 0.001133762448266908\n"
     ]
    }
   ],
   "source": [
    "k_edge=111.8-17.937*U10+3.095*U10**2+1.2656*U10**2*log(U10)+0.3141*U10*(2.5)\n",
    "def correlation_angles(k,rho):\n",
    "    integral=zeros(len(rho))\n",
    "    S=k**2*full_spectrum(k)\n",
    "    y=lambda k,rho: S*cos(k*rho)\n",
    "    for i in range(len(rho)):\n",
    "        integral[i]=trapz(y(k,rho[i]),x=k)\n",
    "    return integral\n",
    "\n",
    "    return f\n",
    "\n",
    "# Функция выбирает узлы по условию равенства интегралов между ними\n",
    "def interspace(k,N):\n",
    "    y=lambda k: full_spectrum(k)\n",
    "    sigma=trapz(y(k),k)\n",
    "    print('Дисперсия наклонов sigma=',sigma)\n",
    "    b0=sigma/(N)\n",
    "    print('sigma/N=', b0)\n",
    "    dk=zeros(N)\n",
    "    k_new=k\n",
    "    I=zeros(N)\n",
    "    eps=0.01   \n",
    "    for i in range(N):\n",
    "        integral=0\n",
    "        n=1\n",
    "        while integral<b0 and n< len(k):\n",
    "#             print('k',k_new)\n",
    "            k_new=k[0:n]\n",
    "            integral=trapz(y(k_new),k_new)\n",
    "            n+=1\n",
    "        I[i]=integral\n",
    "#         print('I=',I[i])\n",
    "        dk[i]=k_new[-1]\n",
    "#         print('dk=',dk[i])\n",
    "        a=where(k==dk[i])[0][0]\n",
    "#         print('a',a)\n",
    "        k=k[a:]\n",
    "        \n",
    "    a=where(k==dk[-1])[0][0]\n",
    "    k_new=k[a:]\n",
    "    print('Сумма интегралов между узлами (поверка)=', \n",
    "          sum(I)         )\n",
    "    print('Остаток=',trapz(y(k_new),k_new))\n",
    "    return dk,b0\n",
    "N=2\n",
    "k=logspace(log10(KT[0]),log10(KT[-1]),10**3)\n",
    "# k=arange(KT[0],KT[-1],0.01)\n",
    "j,b0=interspace(k,300)\n",
    "rho=linspace(0,10,400)\n",
    "k=arange(k[0],k[-1],k[0]/2)\n",
    "S=lambda k: full_spectrum(k)\n",
    "y=zeros(len(rho))\n",
    "loglog(k,S(k))\n",
    "for i in j:\n",
    "    axvline(x=i)\n",
    "figure()\n",
    "plot(j)\n",
    "print(j)\n"
   ]
  },
  {
   "cell_type": "code",
   "execution_count": null,
   "metadata": {},
   "outputs": [],
   "source": []
  },
  {
   "cell_type": "code",
   "execution_count": null,
   "metadata": {},
   "outputs": [],
   "source": [
    "def nodes(ki,b0):\n",
    "    y=lambda k: k**2*full_spectrum(k)\n",
    "    nodes=zeros(len(ki))\n",
    "    for i in range(1,len(ki)):\n",
    "        k=linspace(ki[i-1],ki[i],10**3)\n",
    "        A=(trapz(y(k),k))\n",
    "        B=(sqrt(A/b0))\n",
    "        nodes[i-1]=B\n",
    "        print(B)\n",
    "    return nodes[:-1]\n",
    "\n",
    "ki=hstack(([KT[0]],j,KT[-1]))\n",
    "node=nodes(ki,b0)\n",
    "\n",
    "k=logspace(log10(KT[0]),log10(KT[-1]),10**6)\n",
    "# k=arange(k[0],k[-1],k[0]/2)\n",
    "S=lambda k: full_spectrum(k)\n",
    "y=zeros(len(rho))\n",
    "loglog(k,S(k))\n",
    "for i in node:\n",
    "    axvline(x=i)\n",
    "figure()\n",
    "plot(node)\n",
    "print(node)"
   ]
  },
  {
   "cell_type": "code",
   "execution_count": null,
   "metadata": {},
   "outputs": [],
   "source": []
  },
  {
   "cell_type": "code",
   "execution_count": null,
   "metadata": {},
   "outputs": [],
   "source": [
    "# print avada kedavra\n",
    "k_edge=111.8-17.937*U10+3.095*U10**2+1.2656*U10**2*log(U10)+0.3141*U10*(2.5)\n",
    "\n",
    "def amplitude(k,N):\n",
    "    # k-- выбранный диапазон волновых чисел\n",
    "    # N-- количество моделируемых гармоник\n",
    "    N=len(k)\n",
    "    S=full_spectrum(k)\n",
    "    dk=zeros(N)\n",
    "    dS=zeros(N)\n",
    "    for i in range(1,N):\n",
    "        dk[i]=(k[i]-k[i-1])\n",
    "        dS[i]=S[i]\n",
    "    amplitude=sqrt(2*dk * dS)\n",
    "    return amplitude\n",
    "\n",
    "\n",
    "def correlation_angles(k,rho):\n",
    "    integral=zeros(len(rho))\n",
    "    S=k**2*full_spectrum(k)\n",
    "    y=lambda k,rho: S*cos(k*rho)\n",
    "    for i in range(len(rho)):\n",
    "        integral[i]=trapz(y(k,rho[i]),x=k)\n",
    "    return integral\n",
    "    \n",
    "def correlation_angles_sum(k,rho):\n",
    "    f=0\n",
    "    A=amplitude(k,N)\n",
    "    f=zeros(len(rho))\n",
    "    for j in range(len(rho)):\n",
    "            f[j]=sum( k**2*A**2/2*cos(k*rho[j]) )\n",
    "    return f\n",
    "print(k_edge)\n",
    "k=node\n",
    "rho=linspace(0,400,400)\n",
    "y=zeros(len(rho))\n",
    "y=correlation_angles_sum(k,rho)\n",
    "k=logspace(log10(KT[0]),log10(KT[-1]),10**3)\n",
    "y1=correlation_angles(k,rho)\n",
    "plot(rho,y,label='Сумма')\n",
    "plot(rho,y1,label='Интеграл')\n",
    "legend()\n",
    "print(y[0],y1[0])\n"
   ]
  },
  {
   "cell_type": "code",
   "execution_count": null,
   "metadata": {},
   "outputs": [],
   "source": [
    "y=lambda k: k**2*full_spectrum(k)\n",
    "k=logspace(log10(KT[0]),log10(KT[-1]),10**2)\n",
    "loglog(k,y(k))\n"
   ]
  },
  {
   "cell_type": "code",
   "execution_count": null,
   "metadata": {},
   "outputs": [],
   "source": [
    "rho=linspace(0,8,400)\n",
    "plot(rho,correlation_angles(j,rho))\n",
    "print avada kedavra"
   ]
  },
  {
   "cell_type": "code",
   "execution_count": null,
   "metadata": {},
   "outputs": [],
   "source": [
    "k=logspace(log10(KT[0]),log10(KT[-1]),10**4)\n",
    "# k=linspace(KT[0],KT[-1],10**4)\n",
    "k=arange(KT[0],KT[-1]+KT[0]/2,KT[0]/2)\n",
    "A=[]\n",
    "for i in range(len(k)):\n",
    "    if k[i]<KT[1]*1.001 and k[i]>KT[1]*0.999:\n",
    "        A.append(k[i])\n",
    "where(k==A)"
   ]
  },
  {
   "cell_type": "code",
   "execution_count": null,
   "metadata": {},
   "outputs": [],
   "source": [
    "rho=linspace(0,8,100)\n",
    "y1=correlation_angles(j,rho)\n",
    "plot(rho,y1)"
   ]
  },
  {
   "cell_type": "markdown",
   "metadata": {},
   "source": [
    "Встала задача нахождения интеграла аналитически. Для этого изначально ещё нужно выбрать оптимальное распеределение волновых чисел."
   ]
  },
  {
   "cell_type": "code",
   "execution_count": null,
   "metadata": {},
   "outputs": [],
   "source": [
    "def find_garmonics(k,rho):\n",
    "    N=100\n",
    "    k=logspace(log10(KT[0]),log10(KT[-1]),10000)\n",
    "    S=correlation_height_sum(k,rho,N)\n",
    "    I=correlation_height(k,rho)\n",
    "    while abs(norm(S-I))>0.01:\n",
    "        N*=2\n",
    "        S=correlation_height_sum(k,rho,N)\n",
    "    print('Количество гармоник для высот N=',N)\n",
    "    \n",
    "    k=logspace(log10(KT[0]),log10(KT[-1]),10**5)\n",
    "    S=correlation_angles_sum(k,rho,N)\n",
    "    I=correlation_angles(k,rho)\n",
    "    while abs(norm(S-I))>0.01:\n",
    "        N+=100\n",
    "        S=correlation_angles_sum(k,rho,N)\n",
    "    print('Количество гармоник для наклонов N=',N)\n",
    "    return N\n",
    "k=logspace(log10(KT[0]),log10(KT[-1]),10**5)\n",
    "rho=linspace(0,400,400)\n",
    "find_garmonics(k,rho)"
   ]
  },
  {
   "cell_type": "code",
   "execution_count": null,
   "metadata": {},
   "outputs": [],
   "source": [
    "from numpy import random\n",
    "def model(k,phi,N):\n",
    "    U10=10\n",
    "    rho=linspace(0,400,400)\n",
    "    A=amplitude(k,N)\n",
    "    F=angle(k,phi)\n",
    "    psi=array([\n",
    "    [ random.uniform(0,2*pi) for j in range(100)] \n",
    "      for i in range(N)              ]) \n",
    "    \n",
    "    def water(r,phi,t=0):\n",
    "        model=0\n",
    "        for n in range(N):\n",
    "            for m in range(100):\n",
    "                model+=A[n]*cos(\n",
    "                    k[n]*(r[0]*cos(phi[m])+r[1]*sin(phi[m]))+psi[n][m]\n",
    "                )*F[n][m]\n",
    "        return model\n",
    "    \n",
    "    return water\n",
    "\n",
    "k=logspace(log10(KT[0]),log10(KT[-1]),10**5)\n",
    "rho=linspace(0,400,400)\n",
    "# N=find_garmonics(k,rho)\n",
    "N=4500\n",
    "k=logspace(log10(KT[0]),log10(KT[-1]),N)\n",
    "phi=linspace(-pi,pi,100)\n",
    "\n",
    "sigma=model(k,phi,N)\n",
    "x=linspace(0,400,400)\n",
    "y=linspace(0,400,400)\n",
    "water=sigma([x,y],phi)\n",
    "start_time = time.time()\n",
    "plot(x,water)\n",
    "print(\"Время выполнения --- %s c\" % (time.time() - start_time))\n",
    "\n",
    "dispersion=std(water)\n",
    "# mn=mean(sigma(x))\n",
    "print('Дисперсия =',dispersion)\n",
    "# print('Среднее=',mn)\n",
    "print(correlation_height(k,[0]))"
   ]
  },
  {
   "cell_type": "code",
   "execution_count": null,
   "metadata": {},
   "outputs": [],
   "source": [
    "# # %matplotlib inline\n",
    "# x=linspace(0,400,40)\n",
    "# y=linspace(0,400,40)\n",
    "# rcParams['figure.figsize'] = [7, 6]\n",
    "# rcParams['axes.labelsize'] = 20\n",
    "# x, y = np.meshgrid(x, y)\n",
    "# z=sigma([x,y],phi)\n",
    "# contourf(z,100,cmap=cm.winter)\n",
    "# colorbar()\n",
    "# ylabel(r'Y',fontsize=16)\n",
    "# xlabel(r'X',fontsize=16)\n",
    "# savefig('water.png',pdi=1500)\n",
    "# show()"
   ]
  },
  {
   "cell_type": "code",
   "execution_count": null,
   "metadata": {},
   "outputs": [],
   "source": []
  }
 ],
 "metadata": {
  "kernelspec": {
   "display_name": "Python 3",
   "language": "python",
   "name": "python3"
  },
  "language_info": {
   "codemirror_mode": {
    "name": "ipython",
    "version": 3
   },
   "file_extension": ".py",
   "mimetype": "text/x-python",
   "name": "python",
   "nbconvert_exporter": "python",
   "pygments_lexer": "ipython3",
   "version": "3.7.1"
  }
 },
 "nbformat": 4,
 "nbformat_minor": 2
}
