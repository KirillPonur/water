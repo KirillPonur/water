{
 "cells": [
  {
   "cell_type": "markdown",
   "metadata": {},
   "source": [
    "<script type=\"text/x-mathjax-config\">\n",
    "MathJax.Hub.Config({\n",
    "  TeX: { \n",
    "    equationNumbers: { autoNumber: \"AMS\" } \n",
    "    }\n",
    "});\n",
    "</script>\n"
   ]
  },
  {
   "cell_type": "code",
   "execution_count": 22,
   "metadata": {},
   "outputs": [
    {
     "name": "stdout",
     "output_type": "stream",
     "text": [
      "Populating the interactive namespace from numpy and matplotlib\n"
     ]
    }
   ],
   "source": [
    "%pylab inline\n",
    "%colors Linux"
   ]
  },
  {
   "cell_type": "markdown",
   "metadata": {},
   "source": [
    "# Моделирование\n",
    "$\\renewcommand{\\phi}{\\varphi}$\n",
    "Для моделирования случайной поверхности $\\Sigma(\\vec{r},t)$ используется ее представление в виде суперпозиции плоских волн (гармоник) с различными частотами $\\omega_n$ и случайными фазами $\\Psi_{nm}$, бегущих под разными азимутальными углами $\\phi_m$:\n",
    "$$\\begin{equation*}\n",
    "    \\Sigma(\\vec{r},t)=\\sum\\limits_{n=1}^N\\sum_{m=1}^M A_n\n",
    "    cos(\\omega_nt+\\vec{k_n}\\vec{r}+\\Psi_{nm})\\cdot\\Phi_{nm}\n",
    "    (\\omega_n,\\phi_m)\n",
    "    \\label{eq:1}\n",
    "\\end{equation*}$$\n",
    "Далее будут приведены основные соотношения, необходимые для этого уравнения\n"
   ]
  },
  {
   "cell_type": "markdown",
   "metadata": {},
   "source": [
    "$$\\begin{equation}\n",
    "\\begin{cases}\n",
    "\tS_{\\Sigma}(\\omega) = S_{\\xi}, & 0< \\omega\\leq 1.2\\omega_m\\\\\n",
    "\tS_{\\Sigma}(\\omega) = \\frac{\\alpha^2}{\\omega^4}, \n",
    "\t& 1.2\\omega<\\omega \\leq a_m\\omega_m\\\\\n",
    "\tS_{\\Sigma}(\\omega) = \\frac{\\alpha^3}{\\omega^5}, \n",
    "\t& a_m\\omega_m < \\omega \\leq \\omega_{gk}\\approx 64 \\text{ рад/с}\\\\\n",
    "\tS_{\\Sigma}(\\omega) = \\frac{\\alpha^4}{\\omega^2.7}, \n",
    "\t& \\omega_{gk} < \\omega \\leq \\omega_{h}\\approx 298 \\text{ рад/с}\\\\\n",
    "\tS_{\\Sigma}(\\omega) = \\frac{\\alpha^5}{\\omega^5}, \n",
    "\t& \\omega_h<\\omega\n",
    "\\end{cases}\n",
    "\\end{equation}$$\n",
    "Здесь $$\\begin{gather*}\n",
    "S_{\\xi}(\\omega)=\\alpha h^2\\omega^{-5}\\exp\\{-1.25(\\frac{\\omega_m}{\\omega})^4\\cdot\\gamma^r\\} \\\\\n",
    "r=\\exp\\left\\{-(\\omega-\\omega_m)^2/(2\\sigma_*^2\\omega_m^2) \\right\\}\n",
    "\\end{gather*}$$\n",
    "\n",
    "\n",
    "--спектр JONSWAP.\n",
    "\n"
   ]
  },
  {
   "cell_type": "code",
   "execution_count": 29,
   "metadata": {},
   "outputs": [],
   "source": [
    "def S0(omega,omega_m, U10):\n",
    "    def r(omega,omega_m):\n",
    "        r=(np.exp(-(omega-omega_m)**2/(2*sigma**2*omega_m**2)))\n",
    "        return r\n",
    "\n",
    "    alpha=0.008\n",
    "    gamma=3.3\n",
    "    sigma=sigm(omega)\n",
    "    a_m=a(U10)\n",
    "    S0=( \n",
    "        alpha*g**2*omega**(-5)*np.exp(-1.25*(omega_m/omega)**4)*\n",
    "        gamma**r(omega,omega_m)\n",
    "    )\n",
    "    return S0"
   ]
  },
  {
   "cell_type": "markdown",
   "metadata": {},
   "source": [
    "А $\\sigma_*$, входящее в $r$, задаётся как:\n",
    "\n",
    "$$\\sigma_*=\n",
    "\\begin{cases}\n",
    "0.07, & \\omega\\leq\\omega_m \\\\\n",
    "0.09, & \\omega>\\omega_m\n",
    "\\end{cases}\n",
    "$$\n"
   ]
  },
  {
   "cell_type": "code",
   "execution_count": 30,
   "metadata": {},
   "outputs": [],
   "source": [
    "def sigm(omega):\n",
    "    if omega <= omega_m:\n",
    "        return 0.07\n",
    "    else:\n",
    "        return 0.09"
   ]
  },
  {
   "cell_type": "code",
   "execution_count": 14,
   "metadata": {},
   "outputs": [],
   "source": [
    "def S(omega,omega_m,U10):\n",
    "    omega_gk=64\n",
    "    omega_h=298\n",
    "    g=9.81\n",
    "    \n",
    "    def a(U10):\n",
    "        a=0.371+0.29*U10+0.29/U10\n",
    "        return a\n",
    "\n",
    "    def alpha0(omega_m,U10):\n",
    "        omega_gk=64\n",
    "        omega_h=298\n",
    "        alpha=np.zeros(6)\n",
    "        alpha[2]=S0(1.2*omega_m,omega_m, U10)*(1.2*omega_m)**4\n",
    "        alpha[3]=alpha[2]*a(U10)*omega_m\n",
    "        alpha[4]=alpha[3]/omega_gk**(2.3)\n",
    "        alpha[5]=alpha[4]*omega_h**(2.3)\n",
    "        return alpha\n",
    "    \n",
    "    \n",
    "    alpha=alpha0(omega_m,U10)\n",
    "    \n",
    "    if 0<=omega<=1.2*omega_m:\n",
    "        S=S0(omega,omega_m,U10)\n",
    "    elif 1.2*omega_m<omega<=a(U10)*omega_m:\n",
    "        S=alpha[2]/omega**4\n",
    "    elif a(U10)*omega_m<omega<=omega_gk:\n",
    "        S=alpha[3]/omega**5\n",
    "    elif omega_gk<omega<=omega_h:\n",
    "        S=alpha[4]/omega**(2.7)\n",
    "    elif omega_h<omega:\n",
    "        S=alpha[5]/omega**5\n",
    "        \n",
    "    return S\n",
    "\n",
    "\n",
    "\n",
    "\n",
    "\n"
   ]
  },
  {
   "cell_type": "markdown",
   "metadata": {},
   "source": [
    "<script type=\"text/x-mathjax-config\">\n",
    "MathJax.Hub.Config({\n",
    "  TeX: { equationNumbers: { autoNumber: \"AMS\" } }\n",
    "});\n",
    "</script>"
   ]
  },
  {
   "cell_type": "code",
   "execution_count": 15,
   "metadata": {},
   "outputs": [
    {
     "data": {
      "text/plain": [
       "[<matplotlib.lines.Line2D at 0x224348fad30>]"
      ]
     },
     "execution_count": 15,
     "metadata": {},
     "output_type": "execute_result"
    },
    {
     "data": {
      "image/png": "[encoded data removed]",
      "text/plain": [
       "<Figure size 432x288 with 1 Axes>"
      ]
     },
     "metadata": {
      "needs_background": "light"
     },
     "output_type": "display_data"
    }
   ],
   "source": [
    "U10=2\n",
    "g=9.81\n",
    "omega_m=0.877*g/1.026/U10\n",
    "omega=np.linspace(0.1,5,1000)\n",
    "C=[]\n",
    "for i in range(len(omega)):\n",
    "    C.append(S(omega[i],omega_m,U10))\n",
    "plt.plot(omega,C)"
   ]
  },
  {
   "cell_type": "code",
   "execution_count": null,
   "metadata": {},
   "outputs": [],
   "source": []
  }
 ],
 "metadata": {
  "kernelspec": {
   "display_name": "Python 3",
   "language": "python",
   "name": "python3"
  },
  "language_info": {
   "codemirror_mode": {
    "name": "ipython",
    "version": 3
   },
   "file_extension": ".py",
   "mimetype": "text/x-python",
   "name": "python",
   "nbconvert_exporter": "python",
   "pygments_lexer": "ipython3",
   "version": "3.7.1"
  }
 },
 "nbformat": 4,
 "nbformat_minor": 2
}
